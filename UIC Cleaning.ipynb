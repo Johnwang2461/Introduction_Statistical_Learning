{
 "cells": [
  {
   "cell_type": "markdown",
   "metadata": {},
   "source": [
    "Project Description"
   ]
  },
  {
   "cell_type": "code",
   "execution_count": 1,
   "metadata": {
    "collapsed": false
   },
   "outputs": [
    {
     "name": "stdout",
     "output_type": "stream",
     "text": [
      "Populating the interactive namespace from numpy and matplotlib\n"
     ]
    }
   ],
   "source": [
    "from sqlalchemy import create_engine\n",
    "import pandas\n",
    "import numpy\n",
    "import seaborn\n",
    "import matplotlib.pyplot as plt\n",
    "%pylab inline"
   ]
  },
  {
   "cell_type": "markdown",
   "metadata": {},
   "source": [
    "Printing All Rows Function"
   ]
  },
  {
   "cell_type": "code",
   "execution_count": null,
   "metadata": {
    "collapsed": true
   },
   "outputs": [],
   "source": [
    "def print_full(column):\n",
    "    pandas.set_option('display.max_rows', len(column))\n",
    "    pandas.set_option('display.max_columns', 10000)\n",
    "    print(column)\n",
    "    pandas.reset_option('display.max_rows')\n",
    "    pandas.reset_option('display.max_columns')"
   ]
  },
  {
   "cell_type": "markdown",
   "metadata": {},
   "source": [
    "Moving MasterPBA Data from SQL Server into a pandas dataframe"
   ]
  },
  {
   "cell_type": "code",
   "execution_count": null,
   "metadata": {
    "collapsed": false
   },
   "outputs": [],
   "source": [
    "engine = create_engine('mssql://DW_PA')\n",
    "\n",
    "MasterPBA = pandas.read_sql_query(\n",
    "\"\"\"\n",
    "SELECT\n",
    "\tjkg.\"bid id\",\n",
    "\tjkg.\"LN ID\",\n",
    "\tjkg.\"OriginMarket\",\n",
    "\tjkg.\"DestMarket\",\n",
    "\tjkg.\"AverageOTRMiles\",\n",
    "\tjkg.\"AverageOTRRate\",\n",
    "\tjkg.\"AverageHubRevenue\",\n",
    "\tjkg.\"AverageIMLRate\",\n",
    "\tjkg.\"AverageIMLMiles\",\n",
    "\tjkg.\"O City\",\n",
    "\tjkg.\"D City\",\n",
    "\tjkg.\"Awarded Y/N\",\n",
    "\tjkg.\"Target MPU\",\n",
    "\tjkg.\"Dray Reduced\",\n",
    "\tjkg.\"Floor Win %\",\n",
    "\tjkg.\"Expert Win %\",\n",
    "\tjkg.\"Expert MPU\",\n",
    "\tjkg.\"Floor MPU\",\n",
    "\tjkg.\"VOL\",\n",
    "\tjkg.\"Total Rate\",\n",
    "\tjkg.\"Original RPM\",\n",
    "\tjkg.\"Target Win %\",\n",
    "\tjkg.\"With Comp\",\n",
    "\tjkg.\"With Truck\",\n",
    "\tjkg.\"% With Comp\",\n",
    "\tjkg.\"% With Truck\",\n",
    "\tjkropf.\"O ST\",\n",
    "\tjkropf.\"D ST\",\n",
    "\tjkropf.\"EQ Type\",\n",
    "\tjkropf.\"Miles\",\n",
    "\tjkropf.\"O Ramp\",\n",
    "\tjkropf.\"O MKT Ramp\",\n",
    "\tjkropf.\"D Ramp\",\n",
    "\tjkropf.\"D MKT Ramp\",\n",
    "\tjkropf.\"PKU\",\n",
    "\tjkropf.\"LHL\",\n",
    "\tjkropf.\"DEL\",\n",
    "\tjkropf.\"Lease/REZ\",\n",
    "\tjkropf.\"Total Cost\",\n",
    "\tjkropf.\"Fee\",\n",
    "\tjkropf.\"Current TPS Rate\",\n",
    "\tjkropf.\"Rate Status\",\n",
    "\tjkropf.\"Hub Fuel Cost @ Analysis Level 1\",\n",
    "\tjkropf.\"Cust Fuel @ Analysis Level 1\",\n",
    "\tjkropf.\"Fuel Build In 1\",\n",
    "\tjkropf.\"Cust Fuel Rate 1\",\n",
    "\tjkropf.\"Cust Fuel Type 1 (PM/RP)\",\n",
    "\tjkropf.\"DOE 1\",\n",
    "\tjkropf.\"ODR Miles\",\n",
    "\tjkropf.\"DDR Miles\",\n",
    "\tjkropf.\"Haz Flag\",\n",
    "\tjkropf.\"Price Cust #\",\n",
    "\tjkropf.\"Awarded Volume\",\n",
    "\tjkropf.\"Scope\",\n",
    "\tjkropf.\"Segment\",\n",
    "\tjkropf.\"Method Used\",\n",
    "\tjkropf.\"Floor Margin %\",\n",
    "\tjkropf.\"Target Margin %\",\n",
    "\tjkropf.\"Expert Margin %\",\n",
    "\tjkropf.\"Prior 6 mos Annualized\",\n",
    "\tjkropf.\"fuelpct\",\n",
    "\tjkropf.\"fuelnormed\",\n",
    "\tjkropf.\"fndr\"\n",
    "\n",
    "FROM DW_PA.jkg.pba_uic as jkg JOIN DW_PA.jkropf.uicreplicated as jkropf\n",
    "ON jkg.\"bid id\" = jkropf.\"bid id\"\n",
    "AND jkg.\"LN ID\" = jkropf. \"LN ID\";\n",
    "\"\"\"\n",
    ",engine)"
   ]
  },
  {
   "cell_type": "markdown",
   "metadata": {},
   "source": [
    "Grabbing the DOE data from SQL Server into a pandas dataframe"
   ]
  },
  {
   "cell_type": "code",
   "execution_count": null,
   "metadata": {
    "collapsed": true
   },
   "outputs": [],
   "source": [
    "DOE = pandas.read_sql_query(\n",
    "    \"\"\"\n",
    "    SELECT *\n",
    "    FROM jkropf.hubimlfuel\n",
    "    \"\"\"\n",
    ",engine)"
   ]
  },
  {
   "cell_type": "markdown",
   "metadata": {},
   "source": [
    "Grabbing PBA Tracking info from SQL Server"
   ]
  },
  {
   "cell_type": "code",
   "execution_count": null,
   "metadata": {
    "collapsed": true
   },
   "outputs": [],
   "source": [
    "PBA_Tracking = pandas.read_sql_query(\n",
    "    \"\"\"\n",
    "    SELECT\n",
    "        \"CUSTOMER_NAME\",\n",
    "        \"CUSTOMER_NUMBER\",\n",
    "        \"BID_ID\",\n",
    "        \"DATE_AWARD_START\",\n",
    "        \"Network\",\n",
    "        \"IS_REPRICE\",\n",
    "        \"CHANGE_VOLUME\"\n",
    "    FROM dbo.[MarketAnalysis_01_PBA Tracking]\n",
    "    \"\"\"\n",
    ", engine)"
   ]
  },
  {
   "cell_type": "markdown",
   "metadata": {},
   "source": [
    "Joining MasterPBA Data and PBA Tracking Info"
   ]
  },
  {
   "cell_type": "code",
   "execution_count": null,
   "metadata": {
    "collapsed": true
   },
   "outputs": [],
   "source": [
    "MasterPBA = pandas.merge(MasterPBA, PBA_Tracking, left_on=\"bid id\", right_on=\"BID_ID\", how=\"inner\")\n",
    "MasterPBA = MasterPBA.drop(\"BID_ID\", axis=1)"
   ]
  },
  {
   "cell_type": "markdown",
   "metadata": {},
   "source": [
    "Removing any DOE and Rate Value mismatches"
   ]
  },
  {
   "cell_type": "code",
   "execution_count": null,
   "metadata": {
    "collapsed": false
   },
   "outputs": [],
   "source": [
    "fuelpct_mismatch = []\n",
    "for i in range(0,len(MasterPBA)):\n",
    "    for j in range (0,len(DOE)):\n",
    "        if MasterPBA.get_value(i,\"DOE 1\")>=DOE.get_value(j,\"Min Amount\") and MasterPBA.get_value(i,\"DOE 1\")<=DOE.get_value(j,\"Max Amount\"):\n",
    "            if MasterPBA.get_value(i, \"fuelpct\") != DOE.get_value(j, \"Rate Value\"):\n",
    "                fuelpct_mismatch.append(i)\n",
    "MasterPBA = MasterPBA.drop(MasterPBA.index[[fuelpct_mismatch]])"
   ]
  },
  {
   "cell_type": "markdown",
   "metadata": {},
   "source": [
    "Isolation to one instance of a lane within each bid"
   ]
  },
  {
   "cell_type": "code",
   "execution_count": null,
   "metadata": {
    "collapsed": false
   },
   "outputs": [],
   "source": [
    "MasterPBA = MasterPBA[pandas.notnull(MasterPBA[\"Fee\"])]\n",
    "MasterPBA = MasterPBA.drop_duplicates()\n",
    "print MasterPBA.shape"
   ]
  },
  {
   "cell_type": "markdown",
   "metadata": {},
   "source": [
    "Checking for any remaining duplicate lanes in MasterPBA"
   ]
  },
  {
   "cell_type": "code",
   "execution_count": null,
   "metadata": {
    "collapsed": false
   },
   "outputs": [],
   "source": [
    "Check = pandas.concat([MasterPBA[\"LN ID\"], MasterPBA[\"bid id\"]], axis=1)\n",
    "Check[\"LNbid\"] = Check[\"LN ID\"] + Check[\"bid id\"].map(str)\n",
    "print_full(Check[\"LNbid\"].value_counts())"
   ]
  },
  {
   "cell_type": "markdown",
   "metadata": {},
   "source": [
    "After investigating further, the issue lanes for bid id 948854 have double spaces in the Fee column as opposed to a single space. The issue lanes for bid id 955884 have multiple lanes that are fee'd for a respective lane. The following code will deal with those issues."
   ]
  },
  {
   "cell_type": "code",
   "execution_count": null,
   "metadata": {
    "collapsed": false
   },
   "outputs": [],
   "source": [
    "MasterPBA = MasterPBA[MasterPBA.Fee != \" \"]\n",
    "MasterPBA = MasterPBA.reset_index(drop=True)\n",
    "MasterPBA = MasterPBA.drop([3207, 3214, 3221, 3219])"
   ]
  },
  {
   "cell_type": "markdown",
   "metadata": {},
   "source": [
    "Determining which lanes has had historical volume"
   ]
  },
  {
   "cell_type": "code",
   "execution_count": null,
   "metadata": {
    "collapsed": true
   },
   "outputs": [],
   "source": [
    "Past_Awarded = pandas.DataFrame(index=range(0,len(MasterPBA)), columns=[\"Past_Awarded\"])\n",
    "MasterPBA = pandas.concat([MasterPBA,Past_Awarded], axis=1)\n",
    "for i in range(0,len(MasterPBA)):\n",
    "    if pandas.isnull(MasterPBA.get_value(i, \"Current TPS Rate\")) == True:\n",
    "        MasterPBA.set_value(i, \"Past_Awarded\", \"No\")\n",
    "    else:\n",
    "        MasterPBA.set_value(i, \"Past_Awarded\", \"Yes\")"
   ]
  },
  {
   "cell_type": "markdown",
   "metadata": {},
   "source": [
    "Creating a Market Column, combining Origin Market and Destination Market\n",
    "Creating a Ramp Column, combining O MKT Ramp and D MKT Ramp\n",
    "Creating a Lane Key Column, combining O City, O ST, D City, D ST"
   ]
  },
  {
   "cell_type": "code",
   "execution_count": null,
   "metadata": {
    "collapsed": true
   },
   "outputs": [],
   "source": [
    "MasterPBA[\"Market\"] = MasterPBA[\"OriginMarket\"] + MasterPBA[\"DestMarket\"]\n",
    "MasterPBA[\"Ramp\"] = MasterPBA[\"O MKT Ramp\"] + MasterPBA[\"D MKT Ramp\"]\n",
    "MasterPBA[\"Lane\"] = MasterPBA[\"O City\"] + MasterPBA[\"O ST\"] + MasterPBA[\"D City\"] + MasterPBA[\"D ST\"]"
   ]
  },
  {
   "cell_type": "markdown",
   "metadata": {},
   "source": [
    "Grabbing Competitive Bid Stats for each Market with the most recent date"
   ]
  },
  {
   "cell_type": "code",
   "execution_count": null,
   "metadata": {
    "collapsed": true
   },
   "outputs": [],
   "source": [
    "Competitive = pandas.read_sql_query(\n",
    "    \"\"\"\n",
    "    SELECT *\n",
    "    FROM DW_PA.dbo.compPlot_stats\n",
    "    WHERE runDt = (\n",
    "        SELECT MAX(runDt)\n",
    "        FROM DW_PA.dbo.compPlot_stats)\n",
    "    \"\"\"\n",
    ",engine)"
   ]
  },
  {
   "cell_type": "markdown",
   "metadata": {},
   "source": [
    "Creating a key for merging the Competetive Bid Stats with the MasterPBA Dataframe"
   ]
  },
  {
   "cell_type": "code",
   "execution_count": null,
   "metadata": {
    "collapsed": false
   },
   "outputs": [],
   "source": [
    "Competitive[\"Market\"] = Competitive[\"OriginMarket\"] + Competitive[\"DestMarket\"]\n",
    "Competitive = Competitive.drop([\"OriginMarket\", \"DestMarket\"], axis=1)"
   ]
  },
  {
   "cell_type": "markdown",
   "metadata": {},
   "source": [
    "Removing any spaces from Market strings for both MasterPBA and Competitive"
   ]
  },
  {
   "cell_type": "code",
   "execution_count": null,
   "metadata": {
    "collapsed": false
   },
   "outputs": [],
   "source": [
    "MasterPBA[\"Market\"] = MasterPBA[\"Market\"].str.replace(\" \", \"\")\n",
    "Competitive[\"Market\"] = Competitive[\"Market\"].str.replace(\" \", \"\")"
   ]
  },
  {
   "cell_type": "markdown",
   "metadata": {},
   "source": [
    "Checking for any issues of collinearity within the competitive bid data and whether that will be an issue. It makes sense that AverageHubCost and AverageHubRevenue would be correlated variables. Null values in the StDevofCompRates, occurring when there is only one competitor."
   ]
  },
  {
   "cell_type": "code",
   "execution_count": null,
   "metadata": {
    "collapsed": false,
    "scrolled": true
   },
   "outputs": [],
   "source": [
    "Competitive_Cor = Competitive.dropna()\n",
    "seaborn.pairplot(Competitive_Cor)\n",
    "seaborn.plt.show()"
   ]
  },
  {
   "cell_type": "markdown",
   "metadata": {},
   "source": [
    "Joining the MasterPBA Data and Competitive Bid Data"
   ]
  },
  {
   "cell_type": "code",
   "execution_count": null,
   "metadata": {
    "collapsed": false
   },
   "outputs": [],
   "source": [
    "MasterPBA = pandas.merge(MasterPBA, Competitive, left_on=\"Market\", right_on=\"Market\", how=\"inner\")\n",
    "MasterPBA = MasterPBA.drop_duplicates()"
   ]
  },
  {
   "cell_type": "markdown",
   "metadata": {},
   "source": [
    "Renaming AverageHubRevenue_y to AverageHubRevenue_Comp and removing AverageHubRevenue_x because the former is the most up to date version."
   ]
  },
  {
   "cell_type": "code",
   "execution_count": null,
   "metadata": {
    "collapsed": false
   },
   "outputs": [],
   "source": [
    "MasterPBA = MasterPBA.rename(columns = {\"AverageHubRevenue_y\": \"AverageHubRevenue_Comp\"})\n",
    "MasterPBA = MasterPBA.drop([\"AverageHubRevenue_x\"], axis=1)"
   ]
  },
  {
   "cell_type": "markdown",
   "metadata": {},
   "source": [
    "Dropping any rows that has NaN for % With Truck and simultaneously is joined with Competitive information with Kind being Truck."
   ]
  },
  {
   "cell_type": "code",
   "execution_count": null,
   "metadata": {
    "collapsed": false
   },
   "outputs": [],
   "source": [
    "MasterPBA = MasterPBA.drop(MasterPBA[(pandas.isnull(MasterPBA[\"% With Truck\"]) == True) & (MasterPBA[\"Kind\"] == \"Truck\")].index.values)\n",
    "MasterPBA[\"% With Truck\"].fillna(0, inplace=True)"
   ]
  },
  {
   "cell_type": "markdown",
   "metadata": {
    "collapsed": true
   },
   "source": [
    "Approximating AverageOTRMiles for missing data for instances in which trucks aren't used by averaging the state pairs and substituting those values as an approximation. Any unused state pairs are approximated with the use of Google Maps and are listed in the dictionary NA_STPAIRS."
   ]
  },
  {
   "cell_type": "code",
   "execution_count": null,
   "metadata": {
    "collapsed": false
   },
   "outputs": [],
   "source": [
    "MasterPBA[\"STPAIR\"] = MasterPBA[\"O ST\"] + MasterPBA[\"D ST\"]\n",
    "AVG_OTR = pandas.DataFrame(index=range(0,len(MasterPBA[\"STPAIR\"].unique())), columns=[\"AVG_OTR\"])\n",
    "a = pandas.concat([pandas.Series(MasterPBA[\"STPAIR\"].unique()),AVG_OTR])\n",
    "a = a.dropna(subset=[0])\n",
    "for i in range(0,len(a)):\n",
    "    a.set_value(i, \"AVG_OTR\", MasterPBA.groupby([\"STPAIR\"])[\"AverageOTRMiles\"].mean()[i])\n",
    "a.columns = ['STPAIR', 'AVG_OTR_STPAIR']\n",
    "\n",
    "NA_STPAIRS = {'TXVA': 1403, 'NYCA': 2900, \"UTNY\": 2225, \"ARNJ\": 1183, \"KSPA\": 1269, \"LANC\": 947, \"VTCA\": 2650, \"MNWA\": 1464,\n",
    "              \"MAWA\": 2944, \"UTPA\": 2045, \"GAOR\": 670, \"GACO\": 1624, \"SCCO\": 1672, \"FLWY\": 2118, \"FLCO\": 1966, \"WIFL\": 1391, \"LAVA\": 1014,\n",
    "              \"TXNY\": 1830, \"NVNC\": 2477, \"WAGA\": 2719, \"SDDE\": 1518, \"VACO\": 1667, \"MDWA\": 2684, \"IDSC\": 2382, \"WYVA\": 1823, \"UTKY\": 1655,\n",
    "              \"UTMS\": 1619, \"IDAL\": 2150, \"OKMA\": 1703, \"IACT\": 1168, \"CAKS\": 1539, \"NVMO\": 1643, \"CAIA\": 1848, \"CANE\": 1459, \"MOTX\": 727, \n",
    "              \"TNUT\": 1669, \"MSUT\": 1618, \"GAWI\": 1049, \"MITX\": 1378, \"OHTX\": 1285, \"NCWA\": 2759, \"VAIN\": 586, \"NJCA\": 2887, \"BJCT\": 2830,\n",
    "              \"WAAR\": 2130, \"WAKY\": 2358, \"WAAL\": 2606, \"MONC\": 915, \"NJOR\":2761, \"LACA\": 1904, \"AZMI\": 1929, \"METX\":2222, \"MALA\": 1588,\n",
    "              \"NHTX\": 1995, \"RIAL\": 1227, \"IDMD\": 2399, \"GAWY\": 1780, \"TNWY\": 1441, \"MNME\": 1437, \"NDGA\": 1751, \"TXNH\": 1996, \"NMCT\": 2073,\n",
    "              \"UTMA\": 2406, \"AZAL\": 1595, \"AZFL\": 2148, \"AZNY\": 2380, \"AZMA\": 2559, \"WANH\": 2927, \"NYID\": 2476, \"MAMN\": 1538, \"DEMN\": 1345,\n",
    "              \"NYUT\": 2228, \"RIUT\": 2391, \"SCMN\": 1384, \"SCWI\": 994, \"ORMN\": 1605}\n",
    "for i in range(0,len(a)):\n",
    "    if a.get_value(i, \"STPAIR\") in NA_STPAIRS.keys():\n",
    "        a.set_value(i, \"AVG_OTR_STPAIR\", NA_STPAIRS[a.get_value(i, \"STPAIR\")])\n",
    "\n",
    "MasterPBA = pandas.merge(MasterPBA,a, left_on=\"STPAIR\", right_on=\"STPAIR\", how=\"inner\")\n",
    "count = 0\n",
    "for i in range(0,len(MasterPBA)):\n",
    "    if pandas.isnull(MasterPBA.get_value(i, \"AverageOTRMiles\")) == True:\n",
    "        MasterPBA.set_value(i, \"AverageOTRMiles\", MasterPBA.get_value(i, \"AVG_OTR_STPAIR\"))\n"
   ]
  },
  {
   "cell_type": "markdown",
   "metadata": {},
   "source": [
    "The AverageOTRRate contains a lot of missing data as well, so the rates will be approximated using variables that are closely related. A simple OLS Regression will be used with the following variables as factors: AverageOTRMiles, AverageIMLRate, AverageIMLMiles, Market, Ramp, Lane, and Total Rate."
   ]
  },
  {
   "cell_type": "code",
   "execution_count": null,
   "metadata": {
    "collapsed": false
   },
   "outputs": [],
   "source": [
    "AverageOTRRate = MasterPBA[[\"AverageOTRRate\",\"AverageOTRMiles\", \"AverageIMLRate\", \"AverageIMLMiles\", \"Market\", \"Ramp\", \"Lane\", \"Total Rate\"]]\n",
    "AverageOTRRate_no_na = AverageOTRRate.dropna()\n",
    "seaborn.pairplot(AverageOTRRate_no_na)\n",
    "seaborn.plt.show()"
   ]
  },
  {
   "cell_type": "code",
   "execution_count": null,
   "metadata": {
    "collapsed": false
   },
   "outputs": [],
   "source": [
    "from sklearn import linear_model\n",
    "from sklearn import preprocessing\n",
    "from sklearn import cross_validation\n",
    "from sklearn.metrics import mean_squared_error\n",
    "\n",
    "numpy.random.seed(1337)\n",
    "\n",
    "AverageOTRRate = MasterPBA[[\"AverageOTRRate\",\"AverageOTRMiles\", \"AverageIMLRate\", \"AverageIMLMiles\", \"Market\", \"Ramp\", \"Lane\", \"Total Rate\"]]\n",
    "\n",
    "LE = preprocessing.LabelEncoder()\n",
    "for i in range(0,len(AverageOTRRate.columns.values)):\n",
    "    for i in range(0,len(AverageOTRRate.columns.values)):\n",
    "        if AverageOTRRate.dtypes[i] == \"object\":\n",
    "            temp = AverageOTRRate.columns.values[i]\n",
    "            LE.fit(MasterPBA[temp].unique())\n",
    "            AverageOTRRate[temp] = LE.transform(AverageOTRRate[temp])\n",
    "\n",
    "NA_TEST = AverageOTRRate[pandas.isnull(AverageOTRRate[\"AverageOTRRate\"]) == True]\n",
    "AverageOTRRate = AverageOTRRate.dropna()\n",
    "\n",
    "Target = AverageOTRRate[\"AverageOTRRate\"]\n",
    "AverageOTRRate = AverageOTRRate.drop([\"AverageOTRRate\"], axis=1)\n",
    "\n",
    "x_train, x_test, y_train, y_test = cross_validation.train_test_split(AverageOTRRate, Target, test_size=.5)\n",
    "\n",
    "LinearRegression = linear_model.LinearRegression()\n",
    "LinearRegression.fit(x_train, y_train)\n",
    "print 'MSE: ', mean_squared_error(y_test, LinearRegression.predict(x_test))\n",
    "\n",
    "count = 0\n",
    "for i in MasterPBA[pandas.isnull(MasterPBA[\"AverageOTRRate\"]) == True].index.values:\n",
    "    MasterPBA.set_value(i, \"AverageOTRRate\", LinearRegression.predict(NA_TEST.drop(\"AverageOTRRate\", axis=1))[count])\n",
    "    count += 1"
   ]
  },
  {
   "cell_type": "markdown",
   "metadata": {},
   "source": [
    "Adjusting StDevofCompRates to be 0 for any lane that contains solely a single competitor"
   ]
  },
  {
   "cell_type": "code",
   "execution_count": null,
   "metadata": {
    "collapsed": false
   },
   "outputs": [],
   "source": [
    "for i in range (0, len(MasterPBA)):\n",
    "    if (pandas.isnull(MasterPBA.get_value(i, \"StDevofCompRates\")) == True) & (MasterPBA.get_value(i, \"NumberofComps\") == 1):\n",
    "        MasterPBA.set_value(i, \"StDevofCompRates\", 0)"
   ]
  },
  {
   "cell_type": "code",
   "execution_count": null,
   "metadata": {
    "collapsed": false
   },
   "outputs": [],
   "source": [
    "print_full(MasterPBA.isnull().sum())"
   ]
  },
  {
   "cell_type": "markdown",
   "metadata": {},
   "source": [
    "Converting all Awarded Y/N's \"N\"s into \"No\"\n"
   ]
  },
  {
   "cell_type": "code",
   "execution_count": null,
   "metadata": {
    "collapsed": false
   },
   "outputs": [],
   "source": [
    "MasterPBA[\"Awarded Y/N\"][MasterPBA[\"Awarded Y/N\"] == \"N\"] = \"No\"\n",
    "print MasterPBA[\"Awarded Y/N\"].unique()"
   ]
  },
  {
   "cell_type": "code",
   "execution_count": 2,
   "metadata": {
    "collapsed": false
   },
   "outputs": [
    {
     "name": "stderr",
     "output_type": "stream",
     "text": [
      "C:\\Users\\john.wang\\AppData\\Local\\Continuum\\Anaconda2\\lib\\site-packages\\IPython\\core\\interactiveshell.py:2723: DtypeWarning: Columns (30,42) have mixed types. Specify dtype option on import or set low_memory=False.\n",
      "  interactivity=interactivity, compiler=compiler, result=result)\n"
     ]
    }
   ],
   "source": [
    "MasterPBA = pandas.read_csv('MasterPBA_Clean.csv')"
   ]
  },
  {
   "cell_type": "markdown",
   "metadata": {},
   "source": [
    "Blending the Intermodal and Truck competitive rates to create an individual ramp that will reduce the data to only one awarded Y/N to each respective lane."
   ]
  },
  {
   "cell_type": "code",
   "execution_count": 3,
   "metadata": {
    "collapsed": false
   },
   "outputs": [
    {
     "name": "stdout",
     "output_type": "stream",
     "text": [
      "['bid id' 'LN ID' 'OriginMarket' 'DestMarket' 'AverageOTRMiles'\n",
      " 'AverageOTRRate' 'AverageIMLRate' 'AverageIMLMiles' 'O City' 'D City'\n",
      " 'Awarded Y/N' 'Target MPU' 'Dray Reduced' 'Floor Win %' 'Expert Win %'\n",
      " 'Expert MPU' 'Floor MPU' 'VOL' 'Total Rate' 'Original RPM' 'Target Win %'\n",
      " 'With Comp' 'With Truck' '% With Comp' '% With Truck' 'O ST' 'D ST'\n",
      " 'D Zip' 'EQ Type' 'Miles' 'O Ramp' 'O MKT Ramp' 'D Ramp' 'D MKT Ramp'\n",
      " 'PKU' 'LHL' 'DEL' 'Lease/REZ' 'Total Cost' 'Fee' 'Current TPS Rate'\n",
      " 'Rate Status' 'Hub Fuel Cost @ Analysis Level 1'\n",
      " 'Cust Fuel @ Analysis Level 1' 'Fuel Build In 1' 'Cust Fuel Rate 1'\n",
      " 'Cust Fuel Type 1 (PM/RP)' 'DOE 1' 'ODR Miles' 'DDR Miles' 'Haz Flag'\n",
      " 'Price Cust #' 'Awarded Volume' 'Scope' 'Segment' 'Method Used'\n",
      " 'Floor Margin %' 'Target Margin %' 'Expert Margin %'\n",
      " 'Prior 6 mos Annualized' 'fuelpct' 'fuelnormed' 'fndr' 'CUSTOMER_NAME'\n",
      " 'CUSTOMER_NUMBER' 'DATE_AWARD_START' 'Network' 'IS_REPRICE'\n",
      " 'CHANGE_VOLUME' 'Past_Awarded' 'Market' 'Ramp' 'Lane' 'Kind'\n",
      " 'NumberofComps' 'AverageCompRate' 'StDevofCompRates'\n",
      " 'AverageHubRevenue_Comp' 'AverageHubCost' 'AverageMiles' 'CorridorVolume'\n",
      " 'runDt' 'STPAIR' 'AVG_OTR_STPAIR' 'BNumberofComps' 'BAverageCompRate'\n",
      " 'BStDevofCompRates' 'BAverageHubRevenue_Comp' 'BAverageHubCost'\n",
      " 'BAverageMiles' 'Symbol' 'Public']\n"
     ]
    }
   ],
   "source": [
    "MasterPBA = MasterPBA.drop([\"Unnamed: 0\", \"Unnamed: 0.1\"], axis=1)\n",
    "print MasterPBA.columns.values"
   ]
  },
  {
   "cell_type": "code",
   "execution_count": 4,
   "metadata": {
    "collapsed": false,
    "scrolled": false
   },
   "outputs": [],
   "source": [
    "MasterPBA[\"BNumberofComps\"] = 0.0\n",
    "MasterPBA[\"BAverageCompRate\"] = 0.0\n",
    "MasterPBA[\"BStDevofCompRates\"] = 0.0\n",
    "MasterPBA[\"BAverageHubRevenue_Comp\"] = 0.0\n",
    "MasterPBA[\"BAverageHubCost\"] = 0.0\n",
    "MasterPBA[\"BAverageMiles\"] = 0.0\n",
    "\n",
    "for i in range(0, len(MasterPBA)):\n",
    "    if MasterPBA.get_value(i, \"Kind\") == \"Intermodal\":\n",
    "        MasterPBA.set_value(i, \"BNumberofComps\", MasterPBA.get_value(i, \"NumberofComps\"))\n",
    "        MasterPBA.set_value(i, \"BAverageCompRate\", (1-MasterPBA.get_value(i, \"% With Truck\")/100.0)*MasterPBA.get_value(i, \"AverageCompRate\"))\n",
    "        MasterPBA.set_value(i, \"BStDevofCompRates\", (1-MasterPBA.get_value(i, \"% With Truck\")/100.0)*MasterPBA.get_value(i, \"StDevofCompRates\"))\n",
    "        MasterPBA.set_value(i, \"BAverageHubRevenue_Comp\", (1-MasterPBA.get_value(i, \"% With Truck\")/100.0)*MasterPBA.get_value(i, \"AverageHubRevenue_Comp\"))\n",
    "        MasterPBA.set_value(i, \"BAverageHubCost\", (1-MasterPBA.get_value(i, \"% With Truck\")/100.0)*MasterPBA.get_value(i, \"AverageHubCost\"))\n",
    "        MasterPBA.set_value(i, \"BAverageMiles\", (1-MasterPBA.get_value(i, \"% With Truck\")/100.0)*MasterPBA.get_value(i, \"AverageMiles\"))\n",
    "    else:\n",
    "        MasterPBA.set_value(i, \"BNumberofComps\", MasterPBA.get_value(i, \"NumberofComps\"))\n",
    "        MasterPBA.set_value(i, \"BAverageCompRate\", (MasterPBA.get_value(i, \"% With Truck\")/100.0)*MasterPBA.get_value(i, \"AverageCompRate\"))\n",
    "        MasterPBA.set_value(i, \"BStDevofCompRates\", (MasterPBA.get_value(i, \"% With Truck\")/100.0)*MasterPBA.get_value(i, \"StDevofCompRates\"))\n",
    "        MasterPBA.set_value(i, \"BAverageHubRevenue_Comp\", (MasterPBA.get_value(i, \"% With Truck\")/100.0)*MasterPBA.get_value(i, \"AverageHubRevenue_Comp\"))\n",
    "        MasterPBA.set_value(i, \"BAverageHubCost\", (MasterPBA.get_value(i, \"% With Truck\")/100.0)*MasterPBA.get_value(i, \"AverageHubCost\"))\n",
    "        MasterPBA.set_value(i, \"BAverageMiles\", (MasterPBA.get_value(i, \"% With Truck\")/100.0)*MasterPBA.get_value(i, \"AverageMiles\"))\n",
    "\n",
    "a = pandas.DataFrame(MasterPBA.groupby([\"bid id\", \"LN ID\"], as_index=False)[\"BNumberofComps\", \"BAverageCompRate\",\"BStDevofCompRates\",\"BAverageHubRevenue_Comp\",\"BAverageHubCost\", \n",
    "                                                                            \"BAverageMiles\"].sum())\n",
    "MasterPBA = MasterPBA.drop([\"BNumberofComps\", \"BAverageCompRate\",\"BStDevofCompRates\",\"BAverageHubRevenue_Comp\",\"BAverageHubCost\", \"BAverageMiles\"], axis=1)\n",
    "MasterPBA = pandas.merge(MasterPBA, a, how='inner', on=['bid id', 'LN ID'])\n",
    "\n",
    "MasterPBA = MasterPBA.drop([\"Kind\", \"NumberofComps\", \"AverageCompRate\",\"StDevofCompRates\",\"AverageHubRevenue_Comp\",\"AverageHubCost\", \"AverageMiles\"], axis=1)\n"
   ]
  },
  {
   "cell_type": "markdown",
   "metadata": {},
   "source": [
    "Correpsonding the names of the company with stocks, creating a categorical variable to determine whether they are publicly held companies or private."
   ]
  },
  {
   "cell_type": "code",
   "execution_count": null,
   "metadata": {
    "collapsed": false
   },
   "outputs": [],
   "source": [
    "Stock = pandas.read_csv('Customer_Stock.csv')\n",
    "MasterPBA = pandas.merge(MasterPBA, Stock, left_on=\"CUSTOMER_NAME\", right_on=\"CUSTOMER_NAME\", how=\"inner\")"
   ]
  },
  {
   "cell_type": "code",
   "execution_count": 5,
   "metadata": {
    "collapsed": false
   },
   "outputs": [
    {
     "name": "stdout",
     "output_type": "stream",
     "text": [
      "['bid id' 'LN ID' 'OriginMarket' 'DestMarket' 'AverageOTRMiles'\n",
      " 'AverageOTRRate' 'AverageIMLRate' 'AverageIMLMiles' 'O City' 'D City'\n",
      " 'Awarded Y/N' 'Target MPU' 'Dray Reduced' 'Floor Win %' 'Expert Win %'\n",
      " 'Expert MPU' 'Floor MPU' 'VOL' 'Total Rate' 'Original RPM' 'Target Win %'\n",
      " 'With Comp' 'With Truck' '% With Comp' '% With Truck' 'O ST' 'D ST'\n",
      " 'D Zip' 'EQ Type' 'Miles' 'O Ramp' 'O MKT Ramp' 'D Ramp' 'D MKT Ramp'\n",
      " 'PKU' 'LHL' 'DEL' 'Lease/REZ' 'Total Cost' 'Fee' 'Current TPS Rate'\n",
      " 'Rate Status' 'Hub Fuel Cost @ Analysis Level 1'\n",
      " 'Cust Fuel @ Analysis Level 1' 'Fuel Build In 1' 'Cust Fuel Rate 1'\n",
      " 'Cust Fuel Type 1 (PM/RP)' 'DOE 1' 'ODR Miles' 'DDR Miles' 'Haz Flag'\n",
      " 'Price Cust #' 'Awarded Volume' 'Scope' 'Segment' 'Method Used'\n",
      " 'Floor Margin %' 'Target Margin %' 'Expert Margin %'\n",
      " 'Prior 6 mos Annualized' 'fuelpct' 'fuelnormed' 'fndr' 'CUSTOMER_NAME'\n",
      " 'CUSTOMER_NUMBER' 'DATE_AWARD_START' 'Network' 'IS_REPRICE'\n",
      " 'CHANGE_VOLUME' 'Past_Awarded' 'Market' 'Ramp' 'Lane' 'CorridorVolume'\n",
      " 'runDt' 'STPAIR' 'AVG_OTR_STPAIR' 'Symbol' 'Public' 'BNumberofComps'\n",
      " 'BAverageCompRate' 'BStDevofCompRates' 'BAverageHubRevenue_Comp'\n",
      " 'BAverageHubCost' 'BAverageMiles']\n"
     ]
    }
   ],
   "source": [
    "print MasterPBA.columns.values"
   ]
  },
  {
   "cell_type": "code",
   "execution_count": null,
   "metadata": {
    "collapsed": false
   },
   "outputs": [],
   "source": [
    "MasterPBA[\"Public\"] = \"cat\"\n",
    "for i in range(0,len(MasterPBA)):\n",
    "    if MasterPBA.get_value(i, \"Symbol\") == \"Private\":\n",
    "        MasterPBA.set_value(i, \"Public\",\"No\")\n",
    "    else:\n",
    "        MasterPBA.set_value(i, \"Public\",\"Yes\")"
   ]
  },
  {
   "cell_type": "code",
   "execution_count": 6,
   "metadata": {
    "collapsed": false
   },
   "outputs": [],
   "source": [
    "MasterPBA.to_csv('MasterPBA_Clean.csv')"
   ]
  }
 ],
 "metadata": {
  "kernelspec": {
   "display_name": "Python 2",
   "language": "python",
   "name": "python2"
  },
  "language_info": {
   "codemirror_mode": {
    "name": "ipython",
    "version": 2
   },
   "file_extension": ".py",
   "mimetype": "text/x-python",
   "name": "python",
   "nbconvert_exporter": "python",
   "pygments_lexer": "ipython2",
   "version": "2.7.11"
  }
 },
 "nbformat": 4,
 "nbformat_minor": 0
}
