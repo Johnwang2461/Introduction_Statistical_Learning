{
 "cells": [
  {
   "cell_type": "code",
   "execution_count": 2,
   "metadata": {
    "collapsed": false
   },
   "outputs": [
    {
     "name": "stdout",
     "output_type": "stream",
     "text": [
      "Populating the interactive namespace from numpy and matplotlib\n"
     ]
    }
   ],
   "source": [
    "import numpy\n",
    "import pandas\n",
    "import matplotlib.pyplot as plt\n",
    "import seaborn\n",
    "from pandas.tools.plotting import scatter_matrix\n",
    "from sklearn import linear_model\n",
    "from sklearn import discriminant_analysis\n",
    "from sklearn import naive_bayes\n",
    "from sklearn import neighbors\n",
    "from sklearn import tree\n",
    "from sklearn import ensemble\n",
    "from sklearn import svm\n",
    "from sklearn import cross_validation\n",
    "from sklearn import metrics\n",
    "from sklearn import feature_selection\n",
    "from sklearn.pipeline import make_pipeline\n",
    "from sklearn import preprocessing\n",
    "from imblearn import over_sampling\n",
    "from imblearn import combine\n",
    "%pylab inline"
   ]
  },
  {
   "cell_type": "code",
   "execution_count": 3,
   "metadata": {
    "collapsed": true
   },
   "outputs": [],
   "source": [
    "numpy.random.seed(1337)"
   ]
  },
  {
   "cell_type": "code",
   "execution_count": 4,
   "metadata": {
    "collapsed": true
   },
   "outputs": [],
   "source": [
    "def print_full(column):\n",
    "    pandas.set_option('display.max_rows', len(column))\n",
    "    pandas.set_option('display.max_columns', 10000)\n",
    "    print(column)\n",
    "    pandas.reset_option('display.max_rows')\n",
    "    pandas.reset_option('display.max_columns')"
   ]
  },
  {
   "cell_type": "markdown",
   "metadata": {},
   "source": [
    "Importing the data"
   ]
  },
  {
   "cell_type": "code",
   "execution_count": 5,
   "metadata": {
    "collapsed": false
   },
   "outputs": [
    {
     "name": "stderr",
     "output_type": "stream",
     "text": [
      "C:\\Users\\john.wang\\AppData\\Local\\Continuum\\Anaconda2\\lib\\site-packages\\IPython\\core\\interactiveshell.py:2723: DtypeWarning: Columns (28,40) have mixed types. Specify dtype option on import or set low_memory=False.\n",
      "  interactivity=interactivity, compiler=compiler, result=result)\n"
     ]
    }
   ],
   "source": [
    "MasterPBA = pandas.read_csv(\"MasterPBA_Clean.csv\")"
   ]
  },
  {
   "cell_type": "markdown",
   "metadata": {},
   "source": [
    "Indicating the response for supervised learning techniques and dropping excessive columns"
   ]
  },
  {
   "cell_type": "code",
   "execution_count": 6,
   "metadata": {
    "collapsed": false
   },
   "outputs": [
    {
     "name": "stdout",
     "output_type": "stream",
     "text": [
      "Unnamed: 0                             0\n",
      "bid id                                 0\n",
      "LN ID                                  0\n",
      "OriginMarket                           0\n",
      "DestMarket                             0\n",
      "AverageOTRMiles                        0\n",
      "AverageOTRRate                         0\n",
      "AverageIMLRate                         0\n",
      "AverageIMLMiles                        0\n",
      "O City                                 0\n",
      "D City                                 0\n",
      "Awarded Y/N                            0\n",
      "Target MPU                           114\n",
      "Dray Reduced                           0\n",
      "Floor Win %                          783\n",
      "Expert Win %                         783\n",
      "Expert MPU                           114\n",
      "Floor MPU                            774\n",
      "VOL                                    1\n",
      "Total Rate                             0\n",
      "Original RPM                           0\n",
      "Target Win %                         783\n",
      "With Comp                              0\n",
      "With Truck                             0\n",
      "% With Comp                            0\n",
      "% With Truck                           0\n",
      "O ST                                   0\n",
      "D ST                                   0\n",
      "D Zip                                659\n",
      "EQ Type                                0\n",
      "Miles                                  0\n",
      "O Ramp                                 0\n",
      "O MKT Ramp                             0\n",
      "D Ramp                                 0\n",
      "D MKT Ramp                             0\n",
      "PKU                                    0\n",
      "LHL                                    0\n",
      "DEL                                    0\n",
      "Lease/REZ                              0\n",
      "Total Cost                             0\n",
      "Fee                                    0\n",
      "Current TPS Rate                    6457\n",
      "Rate Status                         7356\n",
      "Hub Fuel Cost @ Analysis Level 1       0\n",
      "Cust Fuel @ Analysis Level 1           0\n",
      "Fuel Build In 1                        0\n",
      "Cust Fuel Rate 1                       0\n",
      "Cust Fuel Type 1 (PM/RP)              92\n",
      "DOE 1                                  0\n",
      "ODR Miles                              1\n",
      "DDR Miles                              1\n",
      "Haz Flag                               1\n",
      "Price Cust #                         731\n",
      "Awarded Volume                         0\n",
      "Scope                                114\n",
      "Segment                              161\n",
      "Method Used                          143\n",
      "Floor Margin %                       783\n",
      "Target Margin %                      169\n",
      "Expert Margin %                      169\n",
      "Prior 6 mos Annualized                 0\n",
      "fuelpct                                0\n",
      "fuelnormed                             0\n",
      "fndr                                   0\n",
      "CUSTOMER_NAME                          0\n",
      "CUSTOMER_NUMBER                        0\n",
      "DATE_AWARD_START                       0\n",
      "Network                                0\n",
      "IS_REPRICE                             0\n",
      "CHANGE_VOLUME                          0\n",
      "Past_Awarded                           0\n",
      "Market                                 0\n",
      "Ramp                                   0\n",
      "Lane                                   0\n",
      "CorridorVolume                         0\n",
      "runDt                                  0\n",
      "STPAIR                                 0\n",
      "AVG_OTR_STPAIR                         0\n",
      "Symbol                                 0\n",
      "Public                                 0\n",
      "BNumberofComps                         0\n",
      "BAverageCompRate                       0\n",
      "BStDevofCompRates                      0\n",
      "BAverageHubRevenue_Comp                0\n",
      "BAverageHubCost                        0\n",
      "BAverageMiles                          0\n",
      "dtype: int64\n"
     ]
    }
   ],
   "source": [
    "print_full(MasterPBA.isnull().sum())"
   ]
  },
  {
   "cell_type": "code",
   "execution_count": 7,
   "metadata": {
    "collapsed": false
   },
   "outputs": [],
   "source": [
    "MasterPBA = MasterPBA.drop([\"Unnamed: 0\",\"bid id\", \"LN ID\", \"OriginMarket\", \"DestMarket\", \"AverageOTRMiles\", \n",
    "                            \"AverageIMLMiles\", \"O City\", \"D City\", \"VOL\", \"Total Rate\", \"O ST\", \"D ST\", \"D Zip\", \"Miles\", \n",
    "                            \"O Ramp\", \"O MKT Ramp\", \"D MKT Ramp\", \"D Ramp\", \"PKU\", \"LHL\", \"DEL\", \"Lease/REZ\", \"Total Cost\", \n",
    "                            \"Fee\", \"Current TPS Rate\", \"Rate Status\", \"Hub Fuel Cost @ Analysis Level 1\", \n",
    "                            \"Cust Fuel @ Analysis Level 1\", \"Fuel Build In 1\", \"Cust Fuel Rate 1\", \"Cust Fuel Type 1 (PM/RP)\", \n",
    "                            \"DOE 1\", \"ODR Miles\", \"DDR Miles\", \"Haz Flag\", \"Price Cust #\", \"fuelpct\", \"fndr\", \"AVG_OTR_STPAIR\", \n",
    "                            \"CUSTOMER_NAME\", \"CUSTOMER_NUMBER\", \"DATE_AWARD_START\", \"runDt\", \"STPAIR\", \"Ramp\", \"Market\", \n",
    "                            \"Awarded Volume\", \"Symbol\", \"EQ Type\", \"With Comp\", \"With Truck\"], axis=1)\n",
    "#\"Target MPU\", \"Floor Win %\", \"Expert Win %\", \"Expert MPU\", \"Floor MPU\", \"Target Win %\", \"Scope\", \"Floor Margin %\", \"Target Margin %\", \"Expert Margin %\"\n",
    "MasterPBA = MasterPBA.dropna()\n",
    "Awarded = pandas.DataFrame(MasterPBA[\"Awarded Y/N\"])\n",
    "Awarded.columns = [\"Awarded\"]\n",
    "MasterPBA = MasterPBA.drop([\"Awarded Y/N\"],axis=1)"
   ]
  },
  {
   "cell_type": "code",
   "execution_count": 7,
   "metadata": {
    "collapsed": false
   },
   "outputs": [
    {
     "name": "stdout",
     "output_type": "stream",
     "text": [
      "['AverageOTRRate' 'AverageIMLRate' 'Target MPU' 'Dray Reduced'\n",
      " 'Floor Win %' 'Expert Win %' 'Expert MPU' 'Floor MPU' 'Original RPM'\n",
      " 'Target Win %' '% With Comp' '% With Truck' 'Scope' 'Segment'\n",
      " 'Method Used' 'Floor Margin %' 'Target Margin %' 'Expert Margin %'\n",
      " 'Prior 6 mos Annualized' 'fuelnormed' 'Network' 'IS_REPRICE'\n",
      " 'CHANGE_VOLUME' 'Past_Awarded' 'Lane' 'CorridorVolume' 'Public'\n",
      " 'BNumberofComps' 'BAverageCompRate' 'BStDevofCompRates'\n",
      " 'BAverageHubRevenue_Comp' 'BAverageHubCost' 'BAverageMiles']\n"
     ]
    }
   ],
   "source": [
    "print MasterPBA.columns.values"
   ]
  },
  {
   "cell_type": "markdown",
   "metadata": {},
   "source": [
    "Converting Categorical Variables into Labels. A dummy variable version is also created but may introduce too much dimensionality into the models."
   ]
  },
  {
   "cell_type": "code",
   "execution_count": 8,
   "metadata": {
    "collapsed": false,
    "scrolled": true
   },
   "outputs": [
    {
     "name": "stdout",
     "output_type": "stream",
     "text": [
      "       AverageOTRRate  AverageIMLRate  Target MPU  Dray Reduced  Floor Win %  \\\n",
      "0            1.235000        0.676038       324.0     -0.110286          1.0   \n",
      "1            1.235000        0.676038       324.0     -0.110286          1.0   \n",
      "2            1.211333        0.616173       304.0     -0.136443          1.0   \n",
      "3            1.211333        0.616173       304.0     -0.136443          1.0   \n",
      "4            1.211333        0.616173       289.0     -0.100793          1.0   \n",
      "5            1.211333        0.616173       289.0     -0.100793          1.0   \n",
      "6            1.211333        0.616173       328.0     -0.195178          1.0   \n",
      "7            1.211333        0.616173       328.0     -0.195178          1.0   \n",
      "8            1.211333        0.616173       290.0     -0.102207          1.0   \n",
      "9            1.211333        0.616173       290.0     -0.102207          1.0   \n",
      "10           1.211333        0.616173       290.0     -0.103982          1.0   \n",
      "11           1.211333        0.616173       290.0     -0.103982          1.0   \n",
      "12           1.211333        0.616173       387.0     -0.324865          1.0   \n",
      "13           1.211333        0.616173       387.0     -0.324865          1.0   \n",
      "14           1.211333        0.616173       289.0     -0.100575          1.0   \n",
      "15           1.211333        0.616173       289.0     -0.100575          1.0   \n",
      "16           1.211333        0.616173       300.0     -0.127888          1.0   \n",
      "17           1.211333        0.616173       300.0     -0.127888          1.0   \n",
      "18           1.211333        0.616173       291.0     -0.103911          1.0   \n",
      "19           1.211333        0.616173       291.0     -0.103911          1.0   \n",
      "20           1.211333        0.616173       298.0     -0.119436          1.0   \n",
      "21           1.211333        0.616173       298.0     -0.119436          1.0   \n",
      "22           1.164444        0.614234       438.0     -0.096551          1.0   \n",
      "23           1.164444        0.614234       438.0     -0.096551          1.0   \n",
      "24           1.164444        0.614234       425.0     -0.096226          1.0   \n",
      "25           1.164444        0.614234       425.0     -0.096226          1.0   \n",
      "26           1.164444        0.614234       426.0     -0.097943          1.0   \n",
      "27           1.164444        0.614234       426.0     -0.097943          1.0   \n",
      "28           1.164444        0.614234       430.0     -0.105486          1.0   \n",
      "29           1.164444        0.614234       430.0     -0.105486          1.0   \n",
      "...               ...             ...         ...           ...          ...   \n",
      "13251        1.215000        0.775342       154.0     -0.138030          1.0   \n",
      "13252        1.215000        0.775342       161.0     -0.186374          1.0   \n",
      "13253        1.215000        0.775342       161.0     -0.186374          1.0   \n",
      "13254        1.215000        0.775342       167.0     -0.206930          1.0   \n",
      "13255        1.215000        0.775342       167.0     -0.206930          1.0   \n",
      "13256        1.215000        0.775342       188.0     -0.355485          1.0   \n",
      "13257        1.215000        0.775342       188.0     -0.355485          1.0   \n",
      "13258        1.215000        0.775342       196.0     -0.402889          1.0   \n",
      "13259        1.215000        0.775342       196.0     -0.402889          1.0   \n",
      "13266        1.215000        0.775342       158.0     -0.162339          1.0   \n",
      "13267        1.215000        0.775342       158.0     -0.162339          1.0   \n",
      "13268        1.215000        0.775342       166.0     -0.211014          1.0   \n",
      "13269        1.215000        0.775342       166.0     -0.211014          1.0   \n",
      "13270        1.215000        0.775342       172.0     -0.230586          1.0   \n",
      "13271        1.215000        0.775342       172.0     -0.230586          1.0   \n",
      "13272        1.215000        0.775342       151.0     -0.130020          1.0   \n",
      "13273        1.215000        0.775342       151.0     -0.130020          1.0   \n",
      "13274        1.215000        0.775342       159.0     -0.180367          1.0   \n",
      "13275        1.215000        0.775342       159.0     -0.180367          1.0   \n",
      "13276        1.215000        0.775342       167.0     -0.201243         -1.0   \n",
      "13277        1.215000        0.775342       167.0     -0.201243         -1.0   \n",
      "13284        1.215000        0.775342       199.0     -0.142672          1.0   \n",
      "13285        1.215000        0.775342       199.0     -0.142672          1.0   \n",
      "13286        1.443419        1.047750       540.0     -1.372873          1.0   \n",
      "13287        1.450517        1.047750       575.0     -1.445812          1.0   \n",
      "13288        1.346559        1.047750       363.0     -0.594861          1.0   \n",
      "13289        0.993749        0.580188        -1.0     -0.231826         -1.0   \n",
      "13290        1.003333        0.569186       160.0     -0.621733          1.0   \n",
      "13291        1.003333        0.569186       160.0     -0.621733          1.0   \n",
      "13292        1.434509        1.147436       128.0     -0.476182          1.0   \n",
      "\n",
      "       Expert Win %  Expert MPU  Floor MPU  Original RPM  Target Win %  \\\n",
      "0               1.0       398.0      -81.0      1.133478           1.0   \n",
      "1               1.0       398.0      -81.0      1.133478           1.0   \n",
      "2               1.0       358.0      203.0      1.024109           1.0   \n",
      "3               1.0       358.0      203.0      1.024109           1.0   \n",
      "4               1.0       340.0      194.0      0.994891           1.0   \n",
      "5               1.0       340.0      194.0      0.994891           1.0   \n",
      "6               1.0       386.0      219.0      1.100831           1.0   \n",
      "7               1.0       386.0      219.0      1.100831           1.0   \n",
      "8               1.0       340.0      194.0      0.996715           1.0   \n",
      "9               1.0       340.0      194.0      0.996715           1.0   \n",
      "10              1.0       341.0      194.0      0.998177           1.0   \n",
      "11              1.0       341.0      194.0      0.998177           1.0   \n",
      "12              1.0       456.0      257.0      1.231848           1.0   \n",
      "13              1.0       456.0      257.0      1.231848           1.0   \n",
      "14              1.0       339.0      193.0      0.996345           1.0   \n",
      "15              1.0       339.0      193.0      0.996345           1.0   \n",
      "16              1.0       353.0      200.0      1.017696           1.0   \n",
      "17              1.0       353.0      200.0      1.017696           1.0   \n",
      "18              1.0       341.0      194.0      0.993464           1.0   \n",
      "19              1.0       341.0      194.0      0.993464           1.0   \n",
      "20              1.0       349.0      199.0      1.008683           1.0   \n",
      "21              1.0       349.0      199.0      1.008683           1.0   \n",
      "22              1.0       529.0      215.0      1.043755           1.0   \n",
      "23              1.0       529.0      215.0      1.043755           1.0   \n",
      "24              1.0       513.0      210.0      1.011927           1.0   \n",
      "25              1.0       513.0      210.0      1.011927           1.0   \n",
      "26              1.0       514.0      210.0      1.012654           1.0   \n",
      "27              1.0       514.0      210.0      1.012654           1.0   \n",
      "28              1.0       519.0      212.0      1.026168           1.0   \n",
      "29              1.0       519.0      212.0      1.026168           1.0   \n",
      "...             ...         ...        ...           ...           ...   \n",
      "13251           1.0       257.0      -20.0      0.967281           1.0   \n",
      "13252           1.0       268.0      -20.0      1.038533           1.0   \n",
      "13253           1.0       268.0      -20.0      1.038533           1.0   \n",
      "13254           1.0       279.0      -22.0      1.018385           1.0   \n",
      "13255           1.0       279.0      -22.0      1.018385           1.0   \n",
      "13256           1.0       314.0      -24.0      1.273231           1.0   \n",
      "13257           1.0       314.0      -24.0      1.273231           1.0   \n",
      "13258           1.0       327.0      -25.0      1.303231           1.0   \n",
      "13259           1.0       327.0      -25.0      1.303231           1.0   \n",
      "13266           1.0       263.0      -20.0      1.008794           1.0   \n",
      "13267           1.0       263.0      -20.0      1.008794           1.0   \n",
      "13268           1.0       277.0      -21.0      1.049927           1.0   \n",
      "13269           1.0       277.0      -21.0      1.049927           1.0   \n",
      "13270           1.0       287.0      -22.0      1.057467           1.0   \n",
      "13271           1.0       287.0      -22.0      1.057467           1.0   \n",
      "13272           1.0       252.0      -19.0      0.994755           1.0   \n",
      "13273           1.0       252.0      -19.0      0.994755           1.0   \n",
      "13274           1.0       266.0      -20.0      1.039208           1.0   \n",
      "13275           1.0       266.0      -20.0      1.039208           1.0   \n",
      "13276          -1.0       278.0      121.0      1.009807          -1.0   \n",
      "13277          -1.0       278.0      121.0      1.009807          -1.0   \n",
      "13284           1.0       249.0       12.0      0.940193           1.0   \n",
      "13285           1.0       249.0       12.0      0.940193           1.0   \n",
      "13286           1.0       583.0      441.0      2.541562           1.0   \n",
      "13287           1.0       622.0      468.0      2.537923           1.0   \n",
      "13288           1.0       398.0      280.0      2.085455           1.0   \n",
      "13289          -1.0       216.0      -99.0      0.883636           1.0   \n",
      "13290           1.0       251.0       51.0      1.375303           1.0   \n",
      "13291           1.0       251.0       51.0      1.375303           1.0   \n",
      "13292           1.0       193.0       43.0      2.456979           1.0   \n",
      "\n",
      "          ...      Lane_YUBA CITYCABURNSVILLEMN  Lane_YUBA CITYCACHESAPEAKEVA  \\\n",
      "0         ...                               0.0                           0.0   \n",
      "1         ...                               0.0                           0.0   \n",
      "2         ...                               0.0                           0.0   \n",
      "3         ...                               0.0                           0.0   \n",
      "4         ...                               0.0                           0.0   \n",
      "5         ...                               0.0                           0.0   \n",
      "6         ...                               0.0                           0.0   \n",
      "7         ...                               0.0                           0.0   \n",
      "8         ...                               0.0                           0.0   \n",
      "9         ...                               0.0                           0.0   \n",
      "10        ...                               0.0                           0.0   \n",
      "11        ...                               0.0                           0.0   \n",
      "12        ...                               0.0                           0.0   \n",
      "13        ...                               0.0                           0.0   \n",
      "14        ...                               0.0                           0.0   \n",
      "15        ...                               0.0                           0.0   \n",
      "16        ...                               0.0                           0.0   \n",
      "17        ...                               0.0                           0.0   \n",
      "18        ...                               0.0                           0.0   \n",
      "19        ...                               0.0                           0.0   \n",
      "20        ...                               0.0                           0.0   \n",
      "21        ...                               0.0                           0.0   \n",
      "22        ...                               0.0                           0.0   \n",
      "23        ...                               0.0                           0.0   \n",
      "24        ...                               0.0                           0.0   \n",
      "25        ...                               0.0                           0.0   \n",
      "26        ...                               0.0                           0.0   \n",
      "27        ...                               0.0                           0.0   \n",
      "28        ...                               0.0                           0.0   \n",
      "29        ...                               0.0                           0.0   \n",
      "...       ...                               ...                           ...   \n",
      "13251     ...                               0.0                           0.0   \n",
      "13252     ...                               0.0                           0.0   \n",
      "13253     ...                               0.0                           0.0   \n",
      "13254     ...                               0.0                           0.0   \n",
      "13255     ...                               0.0                           0.0   \n",
      "13256     ...                               0.0                           0.0   \n",
      "13257     ...                               0.0                           0.0   \n",
      "13258     ...                               0.0                           0.0   \n",
      "13259     ...                               0.0                           0.0   \n",
      "13266     ...                               0.0                           0.0   \n",
      "13267     ...                               0.0                           0.0   \n",
      "13268     ...                               0.0                           0.0   \n",
      "13269     ...                               0.0                           0.0   \n",
      "13270     ...                               0.0                           0.0   \n",
      "13271     ...                               0.0                           0.0   \n",
      "13272     ...                               0.0                           0.0   \n",
      "13273     ...                               0.0                           0.0   \n",
      "13274     ...                               0.0                           0.0   \n",
      "13275     ...                               0.0                           0.0   \n",
      "13276     ...                               0.0                           0.0   \n",
      "13277     ...                               0.0                           0.0   \n",
      "13284     ...                               0.0                           0.0   \n",
      "13285     ...                               0.0                           0.0   \n",
      "13286     ...                               0.0                           0.0   \n",
      "13287     ...                               0.0                           0.0   \n",
      "13288     ...                               0.0                           0.0   \n",
      "13289     ...                               0.0                           0.0   \n",
      "13290     ...                               0.0                           0.0   \n",
      "13291     ...                               0.0                           0.0   \n",
      "13292     ...                               0.0                           0.0   \n",
      "\n",
      "       Lane_YUBA CITYCACOWPENSSC  Lane_YUBA CITYCAKANSAS CITYMO  \\\n",
      "0                            0.0                            0.0   \n",
      "1                            0.0                            0.0   \n",
      "2                            0.0                            0.0   \n",
      "3                            0.0                            0.0   \n",
      "4                            0.0                            0.0   \n",
      "5                            0.0                            0.0   \n",
      "6                            0.0                            0.0   \n",
      "7                            0.0                            0.0   \n",
      "8                            0.0                            0.0   \n",
      "9                            0.0                            0.0   \n",
      "10                           0.0                            0.0   \n",
      "11                           0.0                            0.0   \n",
      "12                           0.0                            0.0   \n",
      "13                           0.0                            0.0   \n",
      "14                           0.0                            0.0   \n",
      "15                           0.0                            0.0   \n",
      "16                           0.0                            0.0   \n",
      "17                           0.0                            0.0   \n",
      "18                           0.0                            0.0   \n",
      "19                           0.0                            0.0   \n",
      "20                           0.0                            0.0   \n",
      "21                           0.0                            0.0   \n",
      "22                           0.0                            0.0   \n",
      "23                           0.0                            0.0   \n",
      "24                           0.0                            0.0   \n",
      "25                           0.0                            0.0   \n",
      "26                           0.0                            0.0   \n",
      "27                           0.0                            0.0   \n",
      "28                           0.0                            0.0   \n",
      "29                           0.0                            0.0   \n",
      "...                          ...                            ...   \n",
      "13251                        0.0                            0.0   \n",
      "13252                        0.0                            0.0   \n",
      "13253                        0.0                            0.0   \n",
      "13254                        0.0                            0.0   \n",
      "13255                        0.0                            0.0   \n",
      "13256                        0.0                            0.0   \n",
      "13257                        0.0                            0.0   \n",
      "13258                        0.0                            0.0   \n",
      "13259                        0.0                            0.0   \n",
      "13266                        0.0                            0.0   \n",
      "13267                        0.0                            0.0   \n",
      "13268                        0.0                            0.0   \n",
      "13269                        0.0                            0.0   \n",
      "13270                        0.0                            0.0   \n",
      "13271                        0.0                            0.0   \n",
      "13272                        0.0                            0.0   \n",
      "13273                        0.0                            0.0   \n",
      "13274                        0.0                            0.0   \n",
      "13275                        0.0                            0.0   \n",
      "13276                        0.0                            0.0   \n",
      "13277                        0.0                            0.0   \n",
      "13284                        0.0                            0.0   \n",
      "13285                        0.0                            0.0   \n",
      "13286                        0.0                            0.0   \n",
      "13287                        0.0                            0.0   \n",
      "13288                        0.0                            0.0   \n",
      "13289                        0.0                            0.0   \n",
      "13290                        0.0                            0.0   \n",
      "13291                        0.0                            0.0   \n",
      "13292                        0.0                            0.0   \n",
      "\n",
      "       Lane_YUBA CITYCAROYAL PALM BEACHFL  Lane_YUBA CITYCAWEST PALM BEACHFL  \\\n",
      "0                                     0.0                                0.0   \n",
      "1                                     0.0                                0.0   \n",
      "2                                     0.0                                0.0   \n",
      "3                                     0.0                                0.0   \n",
      "4                                     0.0                                0.0   \n",
      "5                                     0.0                                0.0   \n",
      "6                                     0.0                                0.0   \n",
      "7                                     0.0                                0.0   \n",
      "8                                     0.0                                0.0   \n",
      "9                                     0.0                                0.0   \n",
      "10                                    0.0                                0.0   \n",
      "11                                    0.0                                0.0   \n",
      "12                                    0.0                                0.0   \n",
      "13                                    0.0                                0.0   \n",
      "14                                    0.0                                0.0   \n",
      "15                                    0.0                                0.0   \n",
      "16                                    0.0                                0.0   \n",
      "17                                    0.0                                0.0   \n",
      "18                                    0.0                                0.0   \n",
      "19                                    0.0                                0.0   \n",
      "20                                    0.0                                0.0   \n",
      "21                                    0.0                                0.0   \n",
      "22                                    0.0                                0.0   \n",
      "23                                    0.0                                0.0   \n",
      "24                                    0.0                                0.0   \n",
      "25                                    0.0                                0.0   \n",
      "26                                    0.0                                0.0   \n",
      "27                                    0.0                                0.0   \n",
      "28                                    0.0                                0.0   \n",
      "29                                    0.0                                0.0   \n",
      "...                                   ...                                ...   \n",
      "13251                                 0.0                                0.0   \n",
      "13252                                 0.0                                0.0   \n",
      "13253                                 0.0                                0.0   \n",
      "13254                                 0.0                                0.0   \n",
      "13255                                 0.0                                0.0   \n",
      "13256                                 0.0                                0.0   \n",
      "13257                                 0.0                                0.0   \n",
      "13258                                 0.0                                0.0   \n",
      "13259                                 0.0                                0.0   \n",
      "13266                                 0.0                                0.0   \n",
      "13267                                 0.0                                0.0   \n",
      "13268                                 0.0                                0.0   \n",
      "13269                                 0.0                                0.0   \n",
      "13270                                 0.0                                0.0   \n",
      "13271                                 0.0                                0.0   \n",
      "13272                                 0.0                                0.0   \n",
      "13273                                 0.0                                0.0   \n",
      "13274                                 0.0                                0.0   \n",
      "13275                                 0.0                                0.0   \n",
      "13276                                 0.0                                0.0   \n",
      "13277                                 0.0                                0.0   \n",
      "13284                                 0.0                                0.0   \n",
      "13285                                 0.0                                0.0   \n",
      "13286                                 0.0                                0.0   \n",
      "13287                                 0.0                                0.0   \n",
      "13288                                 0.0                                0.0   \n",
      "13289                                 0.0                                0.0   \n",
      "13290                                 0.0                                0.0   \n",
      "13291                                 0.0                                0.0   \n",
      "13292                                 0.0                                0.0   \n",
      "\n",
      "       Lane_ZACHARYLAWHITEHALLPA  Lane_ZUMBROTAMNIRVINGTX Public_No  \\\n",
      "0                            0.0                      0.0       0.0   \n",
      "1                            0.0                      0.0       0.0   \n",
      "2                            0.0                      0.0       0.0   \n",
      "3                            0.0                      0.0       0.0   \n",
      "4                            0.0                      0.0       0.0   \n",
      "5                            0.0                      0.0       0.0   \n",
      "6                            0.0                      0.0       0.0   \n",
      "7                            0.0                      0.0       0.0   \n",
      "8                            0.0                      0.0       0.0   \n",
      "9                            0.0                      0.0       0.0   \n",
      "10                           0.0                      0.0       0.0   \n",
      "11                           0.0                      0.0       0.0   \n",
      "12                           0.0                      0.0       0.0   \n",
      "13                           0.0                      0.0       0.0   \n",
      "14                           0.0                      0.0       0.0   \n",
      "15                           0.0                      0.0       0.0   \n",
      "16                           0.0                      0.0       0.0   \n",
      "17                           0.0                      0.0       0.0   \n",
      "18                           0.0                      0.0       0.0   \n",
      "19                           0.0                      0.0       0.0   \n",
      "20                           0.0                      0.0       0.0   \n",
      "21                           0.0                      0.0       0.0   \n",
      "22                           0.0                      0.0       0.0   \n",
      "23                           0.0                      0.0       0.0   \n",
      "24                           0.0                      0.0       0.0   \n",
      "25                           0.0                      0.0       0.0   \n",
      "26                           0.0                      0.0       0.0   \n",
      "27                           0.0                      0.0       0.0   \n",
      "28                           0.0                      0.0       0.0   \n",
      "29                           0.0                      0.0       0.0   \n",
      "...                          ...                      ...       ...   \n",
      "13251                        0.0                      0.0       1.0   \n",
      "13252                        0.0                      0.0       1.0   \n",
      "13253                        0.0                      0.0       1.0   \n",
      "13254                        0.0                      0.0       1.0   \n",
      "13255                        0.0                      0.0       1.0   \n",
      "13256                        0.0                      0.0       1.0   \n",
      "13257                        0.0                      0.0       1.0   \n",
      "13258                        0.0                      0.0       1.0   \n",
      "13259                        0.0                      0.0       1.0   \n",
      "13266                        0.0                      0.0       1.0   \n",
      "13267                        0.0                      0.0       1.0   \n",
      "13268                        0.0                      0.0       1.0   \n",
      "13269                        0.0                      0.0       1.0   \n",
      "13270                        0.0                      0.0       1.0   \n",
      "13271                        0.0                      0.0       1.0   \n",
      "13272                        0.0                      0.0       1.0   \n",
      "13273                        0.0                      0.0       1.0   \n",
      "13274                        0.0                      0.0       1.0   \n",
      "13275                        0.0                      0.0       1.0   \n",
      "13276                        0.0                      0.0       1.0   \n",
      "13277                        0.0                      0.0       1.0   \n",
      "13284                        0.0                      0.0       1.0   \n",
      "13285                        0.0                      0.0       1.0   \n",
      "13286                        0.0                      0.0       1.0   \n",
      "13287                        0.0                      0.0       1.0   \n",
      "13288                        0.0                      0.0       1.0   \n",
      "13289                        0.0                      0.0       0.0   \n",
      "13290                        0.0                      0.0       1.0   \n",
      "13291                        0.0                      0.0       1.0   \n",
      "13292                        0.0                      0.0       1.0   \n",
      "\n",
      "       Public_Yes  \n",
      "0             1.0  \n",
      "1             1.0  \n",
      "2             1.0  \n",
      "3             1.0  \n",
      "4             1.0  \n",
      "5             1.0  \n",
      "6             1.0  \n",
      "7             1.0  \n",
      "8             1.0  \n",
      "9             1.0  \n",
      "10            1.0  \n",
      "11            1.0  \n",
      "12            1.0  \n",
      "13            1.0  \n",
      "14            1.0  \n",
      "15            1.0  \n",
      "16            1.0  \n",
      "17            1.0  \n",
      "18            1.0  \n",
      "19            1.0  \n",
      "20            1.0  \n",
      "21            1.0  \n",
      "22            1.0  \n",
      "23            1.0  \n",
      "24            1.0  \n",
      "25            1.0  \n",
      "26            1.0  \n",
      "27            1.0  \n",
      "28            1.0  \n",
      "29            1.0  \n",
      "...           ...  \n",
      "13251         0.0  \n",
      "13252         0.0  \n",
      "13253         0.0  \n",
      "13254         0.0  \n",
      "13255         0.0  \n",
      "13256         0.0  \n",
      "13257         0.0  \n",
      "13258         0.0  \n",
      "13259         0.0  \n",
      "13266         0.0  \n",
      "13267         0.0  \n",
      "13268         0.0  \n",
      "13269         0.0  \n",
      "13270         0.0  \n",
      "13271         0.0  \n",
      "13272         0.0  \n",
      "13273         0.0  \n",
      "13274         0.0  \n",
      "13275         0.0  \n",
      "13276         0.0  \n",
      "13277         0.0  \n",
      "13284         0.0  \n",
      "13285         0.0  \n",
      "13286         0.0  \n",
      "13287         0.0  \n",
      "13288         0.0  \n",
      "13289         1.0  \n",
      "13290         0.0  \n",
      "13291         0.0  \n",
      "13292         0.0  \n",
      "\n",
      "[12423 rows x 7237 columns]\n"
     ]
    }
   ],
   "source": [
    "MasterPBA_Dummies = pandas.get_dummies(MasterPBA)\n",
    "\n",
    "LE = preprocessing.LabelEncoder()\n",
    "\n",
    "for i in range(0,len(MasterPBA.columns.values)):\n",
    "    if MasterPBA.dtypes[i] == \"object\":\n",
    "        temp = MasterPBA.columns.values[i]\n",
    "        LE.fit(MasterPBA[temp].unique())\n",
    "        MasterPBA[temp] = LE.transform(MasterPBA[temp])\n",
    "\n",
    "LE.fit(Awarded['Awarded'].unique())\n",
    "Awarded['Awarded'] = LE.transform(Awarded['Awarded'])\n",
    "\n",
    "print MasterPBA_Dummies"
   ]
  },
  {
   "cell_type": "markdown",
   "metadata": {},
   "source": [
    "Creating the training and test sets"
   ]
  },
  {
   "cell_type": "code",
   "execution_count": 9,
   "metadata": {
    "collapsed": false
   },
   "outputs": [],
   "source": [
    "# MasterPBA = numpy.reshape(MasterPBA, (len(MasterPBA),len(MasterPBA.columns)))\n",
    "MasterPBA_Dummies = numpy.reshape(MasterPBA_Dummies, (len(MasterPBA_Dummies),len(MasterPBA_Dummies.columns)))\n",
    "Awarded = numpy.ravel(Awarded)\n",
    "\n",
    "x_train, x_test, y_train, y_test = cross_validation.train_test_split(MasterPBA_Dummies, Awarded, test_size=.3333)\n"
   ]
  },
  {
   "cell_type": "markdown",
   "metadata": {},
   "source": [
    "Rebalancing the data set by oversampling"
   ]
  },
  {
   "cell_type": "code",
   "execution_count": 10,
   "metadata": {
    "collapsed": false
   },
   "outputs": [
    {
     "name": "stdout",
     "output_type": "stream",
     "text": [
      "(14870L, 7237L) (14870L,)\n",
      "(14840L, 7237L) (14840L,)\n"
     ]
    }
   ],
   "source": [
    "Smote = over_sampling.SMOTE()\n",
    "x_train_S, y_train_S = Smote.fit_sample(x_train, y_train)\n",
    "print x_train_S.shape, y_train_S.shape\n",
    "\n",
    "SmoteTomek = combine.SMOTETomek()\n",
    "x_train_ST, y_train_ST = SmoteTomek.fit_sample(x_train, y_train)\n",
    "print x_train_ST.shape, y_train_ST.shape\n",
    "\n",
    "# EasyEnsemble = ensemble.EasyEnsemble()\n",
    "# x_train_EE, y_train_EE = EasyEnsemble.fit_sample(x_train, y_train)\n",
    "# print x_train_EE.shape, y_train_EE.shape"
   ]
  },
  {
   "cell_type": "markdown",
   "metadata": {},
   "source": [
    "Model Evaluation"
   ]
  },
  {
   "cell_type": "code",
   "execution_count": 11,
   "metadata": {
    "collapsed": true
   },
   "outputs": [],
   "source": [
    "def model_evaluation(y_test, y_predicted):\n",
    "    print \"Classification Report\"\n",
    "    print metrics.classification_report(y_test, y_predicted)\n",
    "\n",
    "    print \"Confusion Matrix\"\n",
    "    print metrics.confusion_matrix(y_test, y_predicted)\n",
    "\n",
    "    print \"ROC AUC Score\"\n",
    "    print metrics.roc_auc_score(y_test, y_predicted)\n",
    "\n",
    "    x,y,_ = metrics.roc_curve(y_test, y_predicted)\n",
    "    plt.figure()\n",
    "    plt.plot(x,y)\n",
    "    plt.title(\"ROC Curve\")\n",
    "    plt.show()\n",
    "\n",
    "def Features(model):\n",
    "    temp_df = pandas.DataFrame([pandas.Series(x_train.columns.values), pandas.Series(model.feature_importances_)]).transpose()\n",
    "    temp_df.columns = [\"Feature\", \"Importance\"]\n",
    "    print_full(temp_df[abs(temp_df[\"Importance\"]) > temp_df[\"Importance\"].quantile(q=0.99)].sort_values(\"Importance\", ascending=False))\n",
    "    print "
   ]
  },
  {
   "cell_type": "markdown",
   "metadata": {},
   "source": [
    "Dumb Classification Model"
   ]
  },
  {
   "cell_type": "code",
   "execution_count": 12,
   "metadata": {
    "collapsed": false
   },
   "outputs": [
    {
     "name": "stdout",
     "output_type": "stream",
     "text": [
      "Dumb Classification Model\n",
      "Classification Report\n"
     ]
    },
    {
     "name": "stderr",
     "output_type": "stream",
     "text": [
      "C:\\Users\\john.wang\\AppData\\Local\\Continuum\\Anaconda2\\lib\\site-packages\\sklearn\\metrics\\classification.py:1074: UndefinedMetricWarning: Precision and F-score are ill-defined and being set to 0.0 in labels with no predicted samples.\n",
      "  'precision', 'predicted', average, warn_for)\n"
     ]
    },
    {
     "name": "stdout",
     "output_type": "stream",
     "text": [
      "             precision    recall  f1-score   support\n",
      "\n",
      "          0       0.90      1.00      0.94      3709\n",
      "          1       0.00      0.00      0.00       432\n",
      "\n",
      "avg / total       0.80      0.90      0.85      4141\n",
      "\n",
      "Confusion Matrix\n",
      "[[3709    0]\n",
      " [ 432    0]]\n",
      "ROC AUC Score\n",
      "0.5\n"
     ]
    },
    {
     "data": {
      "image/png": "[encoded data removed]",
      "text/plain": [
       "<matplotlib.figure.Figure at 0x36e01d0>"
      ]
     },
     "metadata": {},
     "output_type": "display_data"
    }
   ],
   "source": [
    "zero_count = 0\n",
    "one_count = 0\n",
    "for i in y_train:\n",
    "    if i == 0:\n",
    "        zero_count += 1\n",
    "    else:\n",
    "        one_count += 1\n",
    "\n",
    "y_predicted = []\n",
    "if zero_count > one_count:\n",
    "    for i in range(0,len(y_test)):\n",
    "        y_predicted.append(0)\n",
    "else:\n",
    "    for i in range(0,len(y_test)):\n",
    "        y_predicted.append(1)\n",
    "print \"Dumb Classification Model\"\n",
    "model_evaluation(y_test, y_predicted)"
   ]
  },
  {
   "cell_type": "markdown",
   "metadata": {},
   "source": [
    "Logistic Regression Model"
   ]
  },
  {
   "cell_type": "code",
   "execution_count": 13,
   "metadata": {
    "collapsed": false,
    "scrolled": false
   },
   "outputs": [
    {
     "name": "stdout",
     "output_type": "stream",
     "text": [
      "Logistic Regression Model:\n",
      "Classification Report\n",
      "             precision    recall  f1-score   support\n",
      "\n",
      "          0       0.92      0.99      0.95      3709\n",
      "          1       0.69      0.24      0.36       432\n",
      "\n",
      "avg / total       0.89      0.91      0.89      4141\n",
      "\n",
      "Confusion Matrix\n",
      "[[3663   46]\n",
      " [ 328  104]]\n",
      "ROC AUC Score\n",
      "0.61416923799\n"
     ]
    },
    {
     "data": {
      "image/png": "[encoded data removed]",
      "text/plain": [
       "<matplotlib.figure.Figure at 0x3a31ef0>"
      ]
     },
     "metadata": {},
     "output_type": "display_data"
    },
    {
     "name": "stdout",
     "output_type": "stream",
     "text": [
      "Logistic Regression Model SMOTE:\n",
      "Classification Report\n",
      "             precision    recall  f1-score   support\n",
      "\n",
      "          0       0.97      0.93      0.95      3709\n",
      "          1       0.54      0.76      0.63       432\n",
      "\n",
      "avg / total       0.93      0.91      0.91      4141\n",
      "\n",
      "Confusion Matrix\n",
      "[[3434  275]\n",
      " [ 104  328]]\n",
      "ROC AUC Score\n",
      "0.842557642571\n"
     ]
    },
    {
     "data": {
      "image/png": "[encoded data removed]",
      "text/plain": [
       "<matplotlib.figure.Figure at 0xb591208>"
      ]
     },
     "metadata": {},
     "output_type": "display_data"
    },
    {
     "name": "stdout",
     "output_type": "stream",
     "text": [
      "Logistic Regression Model SMOTETomek:\n",
      "Classification Report\n",
      "             precision    recall  f1-score   support\n",
      "\n",
      "          0       0.97      0.92      0.94      3709\n",
      "          1       0.51      0.74      0.60       432\n",
      "\n",
      "avg / total       0.92      0.90      0.91      4141\n",
      "\n",
      "Confusion Matrix\n",
      "[[3396  313]\n",
      " [ 111  321]]\n",
      "ROC AUC Score\n",
      "0.829333116144\n"
     ]
    },
    {
     "data": {
      "image/png": "[encoded data removed]",
      "text/plain": [
       "<matplotlib.figure.Figure at 0xb5b73c8>"
      ]
     },
     "metadata": {},
     "output_type": "display_data"
    }
   ],
   "source": [
    "Log_Regression =  linear_model.LogisticRegression()\n",
    "Log_Regression.fit(x_train, y_train)\n",
    "print \"Logistic Regression Model:\"\n",
    "model_evaluation(y_test, Log_Regression.predict(x_test))\n",
    "\n",
    "Log_Regression.fit(x_train_S,y_train_S)\n",
    "print \"Logistic Regression Model SMOTE:\"\n",
    "model_evaluation(y_test, Log_Regression.predict(x_test))\n",
    "\n",
    "Log_Regression.fit(x_train_ST,y_train_ST)\n",
    "print \"Logistic Regression Model SMOTETomek:\"\n",
    "model_evaluation(y_test, Log_Regression.predict(x_test))\n",
    "\n",
    "# Log_Regression.fit(x_train_EE,y_train_EE)\n",
    "# print \"Logistic Regression Model EE:\"\n",
    "# model_evaluation(y_test, Log_Regression.predict(x_test))"
   ]
  },
  {
   "cell_type": "markdown",
   "metadata": {},
   "source": [
    "Linear Discriminant Analysis Model"
   ]
  },
  {
   "cell_type": "code",
   "execution_count": 14,
   "metadata": {
    "collapsed": false
   },
   "outputs": [
    {
     "name": "stderr",
     "output_type": "stream",
     "text": [
      "C:\\Users\\john.wang\\AppData\\Local\\Continuum\\Anaconda2\\lib\\site-packages\\sklearn\\discriminant_analysis.py:387: UserWarning: Variables are collinear.\n",
      "  warnings.warn(\"Variables are collinear.\")\n"
     ]
    },
    {
     "name": "stdout",
     "output_type": "stream",
     "text": [
      "Linear Discriminant Analysis Model:\n",
      "Classification Report\n",
      "             precision    recall  f1-score   support\n",
      "\n",
      "          0       0.97      0.77      0.86      3709\n",
      "          1       0.28      0.79      0.42       432\n",
      "\n",
      "avg / total       0.90      0.77      0.81      4141\n",
      "\n",
      "Confusion Matrix\n",
      "[[2851  858]\n",
      " [  90  342]]\n",
      "ROC AUC Score\n",
      "0.780168733711\n"
     ]
    },
    {
     "data": {
      "image/png": "[encoded data removed]",
      "text/plain": [
       "<matplotlib.figure.Figure at 0x11adecdd8>"
      ]
     },
     "metadata": {},
     "output_type": "display_data"
    },
    {
     "name": "stdout",
     "output_type": "stream",
     "text": [
      "Linear Discriminant Analysis Model SMOTE:\n",
      "Classification Report\n",
      "             precision    recall  f1-score   support\n",
      "\n",
      "          0       0.97      0.76      0.85      3709\n",
      "          1       0.28      0.80      0.41       432\n",
      "\n",
      "avg / total       0.90      0.76      0.80      4141\n",
      "\n",
      "Confusion Matrix\n",
      "[[2808  901]\n",
      " [  86  346]]\n",
      "ROC AUC Score\n",
      "0.779001652637\n"
     ]
    },
    {
     "data": {
      "image/png": "[encoded data removed]",
      "text/plain": [
       "<matplotlib.figure.Figure at 0x11adeccc0>"
      ]
     },
     "metadata": {},
     "output_type": "display_data"
    },
    {
     "name": "stdout",
     "output_type": "stream",
     "text": [
      "Linear Discriminant Analysis Model SMOTETomek:\n",
      "Classification Report\n",
      "             precision    recall  f1-score   support\n",
      "\n",
      "          0       0.97      0.75      0.85      3709\n",
      "          1       0.27      0.80      0.41       432\n",
      "\n",
      "avg / total       0.90      0.76      0.80      4141\n",
      "\n",
      "Confusion Matrix\n",
      "[[2798  911]\n",
      " [  88  344]]\n",
      "ROC AUC Score\n",
      "0.775338765565\n"
     ]
    },
    {
     "data": {
      "image/png": "[encoded data removed]",
      "text/plain": [
       "<matplotlib.figure.Figure at 0x11ac80048>"
      ]
     },
     "metadata": {},
     "output_type": "display_data"
    }
   ],
   "source": [
    "LDA = discriminant_analysis.LinearDiscriminantAnalysis()\n",
    "LDA.fit(x_train, y_train)\n",
    "print \"Linear Discriminant Analysis Model:\"\n",
    "model_evaluation(y_test, LDA.predict(x_test))\n",
    "\n",
    "LDA.fit(x_train_S, y_train_S)\n",
    "print \"Linear Discriminant Analysis Model SMOTE:\"\n",
    "model_evaluation(y_test, LDA.predict(x_test))\n",
    "\n",
    "LDA.fit(x_train_ST, y_train_ST)\n",
    "print \"Linear Discriminant Analysis Model SMOTETomek:\"\n",
    "model_evaluation(y_test, LDA.predict(x_test))\n",
    "\n",
    "# LDA.fit(x_train_EE, y_train_EE)\n",
    "# print \"Linear Discriminant Analysis Model EE:\"\n",
    "# model_evaluation(y_test, LDA.predict(x_test))"
   ]
  },
  {
   "cell_type": "markdown",
   "metadata": {},
   "source": [
    "Naive Bayes Model"
   ]
  },
  {
   "cell_type": "code",
   "execution_count": 15,
   "metadata": {
    "collapsed": false
   },
   "outputs": [
    {
     "name": "stdout",
     "output_type": "stream",
     "text": [
      "Naive Bayes Model:\n",
      "Classification Report\n",
      "             precision    recall  f1-score   support\n",
      "\n",
      "          0       0.97      0.76      0.85      3709\n",
      "          1       0.28      0.81      0.42       432\n",
      "\n",
      "avg / total       0.90      0.77      0.81      4141\n",
      "\n",
      "Confusion Matrix\n",
      "[[2823  886]\n",
      " [  80  352]]\n",
      "ROC AUC Score\n",
      "0.787968205466\n"
     ]
    },
    {
     "data": {
      "image/png": "[encoded data removed]",
      "text/plain": [
       "<matplotlib.figure.Figure at 0xb11cc50>"
      ]
     },
     "metadata": {},
     "output_type": "display_data"
    },
    {
     "name": "stdout",
     "output_type": "stream",
     "text": [
      "Naive Bayes Model SMOTE:\n",
      "Classification Report\n",
      "             precision    recall  f1-score   support\n",
      "\n",
      "          0       0.99      0.26      0.41      3709\n",
      "          1       0.13      0.97      0.23       432\n",
      "\n",
      "avg / total       0.90      0.33      0.39      4141\n",
      "\n",
      "Confusion Matrix\n",
      "[[ 962 2747]\n",
      " [  11  421]]\n",
      "ROC AUC Score\n",
      "0.61695306961\n"
     ]
    },
    {
     "data": {
      "image/png": "[encoded data removed]",
      "text/plain": [
       "<matplotlib.figure.Figure at 0xb126b38>"
      ]
     },
     "metadata": {},
     "output_type": "display_data"
    },
    {
     "name": "stdout",
     "output_type": "stream",
     "text": [
      "Naive Bayes Model SMOTETomek:\n",
      "Classification Report\n",
      "             precision    recall  f1-score   support\n",
      "\n",
      "          0       0.99      0.25      0.41      3709\n",
      "          1       0.13      0.97      0.23       432\n",
      "\n",
      "avg / total       0.90      0.33      0.39      4141\n",
      "\n",
      "Confusion Matrix\n",
      "[[ 945 2764]\n",
      " [  11  421]]\n",
      "ROC AUC Score\n",
      "0.614661346774\n"
     ]
    },
    {
     "data": {
      "image/png": "[encoded data removed]",
      "text/plain": [
       "<matplotlib.figure.Figure at 0xb126438>"
      ]
     },
     "metadata": {},
     "output_type": "display_data"
    }
   ],
   "source": [
    "Naive_Bayes = naive_bayes.GaussianNB()\n",
    "Naive_Bayes.fit(x_train, y_train)\n",
    "print \"Naive Bayes Model:\"\n",
    "model_evaluation(y_test, Naive_Bayes.predict(x_test))\n",
    "\n",
    "Naive_Bayes.fit(x_train_S, y_train_S)\n",
    "print \"Naive Bayes Model SMOTE:\"\n",
    "model_evaluation(y_test, Naive_Bayes.predict(x_test))\n",
    "\n",
    "Naive_Bayes.fit(x_train_ST, y_train_ST)\n",
    "print \"Naive Bayes Model SMOTETomek:\"\n",
    "model_evaluation(y_test, Naive_Bayes.predict(x_test))\n",
    "\n",
    "# Naive_Bayes.fit(x_train_EE, y_train_EE)\n",
    "# print \"Naive Bayes Model EE:\"\n",
    "# model_evaluation(y_test, Naive_Bayes.predict(x_test))"
   ]
  },
  {
   "cell_type": "markdown",
   "metadata": {},
   "source": [
    "K Nearest Neighbor Model"
   ]
  },
  {
   "cell_type": "code",
   "execution_count": 16,
   "metadata": {
    "collapsed": false
   },
   "outputs": [
    {
     "name": "stdout",
     "output_type": "stream",
     "text": [
      "K Nearest Neighbor Model:\n",
      "Classification Report\n",
      "             precision    recall  f1-score   support\n",
      "\n",
      "          0       0.94      0.97      0.95      3709\n",
      "          1       0.65      0.46      0.54       432\n",
      "\n",
      "avg / total       0.91      0.92      0.91      4141\n",
      "\n",
      "Confusion Matrix\n",
      "[[3603  106]\n",
      " [ 234  198]]\n",
      "ROC AUC Score\n",
      "0.714877100746\n"
     ]
    },
    {
     "data": {
      "image/png": "[encoded data removed]",
      "text/plain": [
       "<matplotlib.figure.Figure at 0xb5a5668>"
      ]
     },
     "metadata": {},
     "output_type": "display_data"
    },
    {
     "name": "stdout",
     "output_type": "stream",
     "text": [
      "K Nearest Neighbor Model SMOTE:\n",
      "Classification Report\n",
      "             precision    recall  f1-score   support\n",
      "\n",
      "          0       0.98      0.90      0.94      3709\n",
      "          1       0.50      0.84      0.62       432\n",
      "\n",
      "avg / total       0.93      0.89      0.91      4141\n",
      "\n",
      "Confusion Matrix\n",
      "[[3342  367]\n",
      " [  71  361]]\n",
      "ROC AUC Score\n",
      "0.868349822254\n"
     ]
    },
    {
     "data": {
      "image/png": "[encoded data removed]",
      "text/plain": [
       "<matplotlib.figure.Figure at 0x11adf6550>"
      ]
     },
     "metadata": {},
     "output_type": "display_data"
    },
    {
     "name": "stdout",
     "output_type": "stream",
     "text": [
      "K Nearest Neighbor Model SMOTETomek:\n",
      "Classification Report\n",
      "             precision    recall  f1-score   support\n",
      "\n",
      "          0       0.98      0.90      0.94      3709\n",
      "          1       0.49      0.83      0.62       432\n",
      "\n",
      "avg / total       0.93      0.89      0.90      4141\n",
      "\n",
      "Confusion Matrix\n",
      "[[3335  374]\n",
      " [  72  360]]\n",
      "ROC AUC Score\n",
      "0.866248764267\n"
     ]
    },
    {
     "data": {
      "image/png": "[encoded data removed]",
      "text/plain": [
       "<matplotlib.figure.Figure at 0xa2eaa2b0>"
      ]
     },
     "metadata": {},
     "output_type": "display_data"
    }
   ],
   "source": [
    "KNN = neighbors.KNeighborsClassifier()\n",
    "KNN.fit(x_train, y_train)\n",
    "print \"K Nearest Neighbor Model:\"\n",
    "model_evaluation(y_test, KNN.predict(x_test))\n",
    "\n",
    "KNN.fit(x_train_S, y_train_S)\n",
    "print \"K Nearest Neighbor Model SMOTE:\"\n",
    "model_evaluation(y_test, KNN.predict(x_test))\n",
    "\n",
    "KNN.fit(x_train_ST, y_train_ST)\n",
    "print \"K Nearest Neighbor Model SMOTETomek:\"\n",
    "model_evaluation(y_test, KNN.predict(x_test))\n",
    "\n",
    "# KNN.fit(x_train_EE, y_train_EE)\n",
    "# print \"K Nearest Neighbor Model EE:\"\n",
    "# model_evaluation(y_test, KNN.predict(x_test))"
   ]
  },
  {
   "cell_type": "code",
   "execution_count": 14,
   "metadata": {
    "collapsed": false
   },
   "outputs": [
    {
     "name": "stdout",
     "output_type": "stream",
     "text": [
      "Decision Tree Model:\n",
      "Classification Report\n",
      "             precision    recall  f1-score   support\n",
      "\n",
      "          0       0.97      0.99      0.98      3709\n",
      "          1       0.89      0.73      0.80       432\n",
      "\n",
      "avg / total       0.96      0.96      0.96      4141\n",
      "\n",
      "Confusion Matrix\n",
      "[[3670   39]\n",
      " [ 117  315]]\n",
      "ROC AUC Score\n",
      "0.859325851532\n"
     ]
    },
    {
     "data": {
      "image/png": "[encoded data removed]",
      "text/plain": [
       "<matplotlib.figure.Figure at 0xb782a58>"
      ]
     },
     "metadata": {},
     "output_type": "display_data"
    },
    {
     "name": "stdout",
     "output_type": "stream",
     "text": [
      "Decision Tree Model SMOTE:\n",
      "Classification Report\n",
      "             precision    recall  f1-score   support\n",
      "\n",
      "          0       0.98      0.98      0.98      3709\n",
      "          1       0.80      0.81      0.81       432\n",
      "\n",
      "avg / total       0.96      0.96      0.96      4141\n",
      "\n",
      "Confusion Matrix\n",
      "[[3622   87]\n",
      " [  82  350]]\n",
      "ROC AUC Score\n",
      "0.89336436396\n"
     ]
    },
    {
     "data": {
      "image/png": "[encoded data removed]",
      "text/plain": [
       "<matplotlib.figure.Figure at 0xbfa5e10>"
      ]
     },
     "metadata": {},
     "output_type": "display_data"
    },
    {
     "name": "stdout",
     "output_type": "stream",
     "text": [
      "Decision Tree Model SMOTETomek:\n",
      "Classification Report\n",
      "             precision    recall  f1-score   support\n",
      "\n",
      "          0       0.97      0.98      0.98      3709\n",
      "          1       0.81      0.78      0.79       432\n",
      "\n",
      "avg / total       0.96      0.96      0.96      4141\n",
      "\n",
      "Confusion Matrix\n",
      "[[3628   81]\n",
      " [  96  336]]\n",
      "ROC AUC Score\n",
      "0.87796950361\n"
     ]
    },
    {
     "data": {
      "image/png": "[encoded data removed]",
      "text/plain": [
       "<matplotlib.figure.Figure at 0xbf99358>"
      ]
     },
     "metadata": {},
     "output_type": "display_data"
    }
   ],
   "source": [
    "Decision_Tree = tree.DecisionTreeClassifier()\n",
    "Decision_Tree.fit(x_train, y_train)\n",
    "print \"Decision Tree Model:\"\n",
    "model_evaluation(y_test, Decision_Tree.predict(x_test))\n",
    "\n",
    "Decision_Tree2 = tree.DecisionTreeClassifier()\n",
    "Decision_Tree2.fit(x_train_S, y_train_S)\n",
    "print \"Decision Tree Model SMOTE:\"\n",
    "model_evaluation(y_test, Decision_Tree2.predict(x_test))\n",
    "\n",
    "Decision_Tree3 = tree.DecisionTreeClassifier()\n",
    "Decision_Tree3.fit(x_train_ST, y_train_ST)\n",
    "print \"Decision Tree Model SMOTETomek:\"\n",
    "model_evaluation(y_test, Decision_Tree3.predict(x_test))\n",
    "\n",
    "# Decision_Tree4 = tree.DecisionTreeClassifier()\n",
    "# Decision_Tree4.fit(x_train_EE, y_train_EE)\n",
    "# print \"Decision Tree Model EE:\"\n",
    "# model_evaluation(y_test, Decision_Tree4.predict(x_test))"
   ]
  },
  {
   "cell_type": "markdown",
   "metadata": {},
   "source": [
    "Random Forest Model"
   ]
  },
  {
   "cell_type": "code",
   "execution_count": 15,
   "metadata": {
    "collapsed": false
   },
   "outputs": [
    {
     "name": "stdout",
     "output_type": "stream",
     "text": [
      "Random Forest Model:\n",
      "Classification Report\n",
      "             precision    recall  f1-score   support\n",
      "\n",
      "          0       0.96      1.00      0.98      3709\n",
      "          1       0.95      0.64      0.76       432\n",
      "\n",
      "avg / total       0.96      0.96      0.95      4141\n",
      "\n",
      "Confusion Matrix\n",
      "[[3694   15]\n",
      " [ 157  275]]\n",
      "ROC AUC Score\n",
      "0.816264928652\n"
     ]
    },
    {
     "data": {
      "image/png": "[encoded data removed]",
      "text/plain": [
       "<matplotlib.figure.Figure at 0xb7906a0>"
      ]
     },
     "metadata": {},
     "output_type": "display_data"
    },
    {
     "name": "stdout",
     "output_type": "stream",
     "text": [
      "Random Forest Model SMOTE:\n",
      "Classification Report\n",
      "             precision    recall  f1-score   support\n",
      "\n",
      "          0       0.97      0.99      0.98      3709\n",
      "          1       0.87      0.72      0.79       432\n",
      "\n",
      "avg / total       0.96      0.96      0.96      4141\n",
      "\n",
      "Confusion Matrix\n",
      "[[3663   46]\n",
      " [ 121  311]]\n",
      "ROC AUC Score\n",
      "0.853752571323\n"
     ]
    },
    {
     "data": {
      "image/png": "[encoded data removed]",
      "text/plain": [
       "<matplotlib.figure.Figure at 0xbfa5dd8>"
      ]
     },
     "metadata": {},
     "output_type": "display_data"
    },
    {
     "name": "stdout",
     "output_type": "stream",
     "text": [
      "Random Forest Model SMOTETomek:\n",
      "Classification Report\n",
      "             precision    recall  f1-score   support\n",
      "\n",
      "          0       0.97      0.99      0.98      3709\n",
      "          1       0.85      0.70      0.77       432\n",
      "\n",
      "avg / total       0.95      0.96      0.95      4141\n",
      "\n",
      "Confusion Matrix\n",
      "[[3657   52]\n",
      " [ 130  302]]\n",
      "ROC AUC Score\n",
      "0.842527061302\n"
     ]
    },
    {
     "data": {
      "image/png": "[encoded data removed]",
      "text/plain": [
       "<matplotlib.figure.Figure at 0xb78d780>"
      ]
     },
     "metadata": {},
     "output_type": "display_data"
    }
   ],
   "source": [
    "Random_Forest = ensemble.RandomForestClassifier()\n",
    "Random_Forest.fit(x_train, y_train)\n",
    "print \"Random Forest Model:\"\n",
    "model_evaluation(y_test, Random_Forest.predict(x_test))\n",
    "\n",
    "Random_Forest2 = ensemble.RandomForestClassifier()\n",
    "Random_Forest2.fit(x_train_S, y_train_S)\n",
    "print \"Random Forest Model SMOTE:\"\n",
    "model_evaluation(y_test, Random_Forest2.predict(x_test))\n",
    "\n",
    "Random_Forest3 = ensemble.RandomForestClassifier()\n",
    "Random_Forest3.fit(x_train_ST, y_train_ST)\n",
    "print \"Random Forest Model SMOTETomek:\"\n",
    "model_evaluation(y_test, Random_Forest3.predict(x_test))\n",
    "\n",
    "# Random_Forest4 = ensemble.RandomForestClassifier()\n",
    "# Random_Forest4.fit(x_train_EE, y_train_EE)\n",
    "# print \"Random Forest Model EE:\"\n",
    "# model_evaluation(y_test, Random_Forest4.predict(x_test))"
   ]
  },
  {
   "cell_type": "markdown",
   "metadata": {},
   "source": [
    "Bagging Decision Tree Model"
   ]
  },
  {
   "cell_type": "code",
   "execution_count": null,
   "metadata": {
    "collapsed": false
   },
   "outputs": [
    {
     "name": "stdout",
     "output_type": "stream",
     "text": [
      "Bagging Decision Tree Model:\n",
      "Classification Report\n",
      "             precision    recall  f1-score   support\n",
      "\n",
      "          0       0.96      0.99      0.97      3709\n",
      "          1       0.92      0.61      0.73       432\n",
      "\n",
      "avg / total       0.95      0.95      0.95      4141\n",
      "\n",
      "Confusion Matrix\n",
      "[[3686   23]\n",
      " [ 170  262]]\n",
      "ROC AUC Score\n",
      "0.80014017455\n"
     ]
    },
    {
     "data": {
      "image/png": "[encoded data removed]",
      "text/plain": [
       "<matplotlib.figure.Figure at 0xa3494f98>"
      ]
     },
     "metadata": {},
     "output_type": "display_data"
    },
    {
     "name": "stdout",
     "output_type": "stream",
     "text": [
      "Bagging Decision Tree Model SMOTE:\n",
      "Classification Report\n",
      "             precision    recall  f1-score   support\n",
      "\n",
      "          0       0.97      0.98      0.98      3709\n",
      "          1       0.81      0.76      0.78       432\n",
      "\n",
      "avg / total       0.96      0.96      0.96      4141\n",
      "\n",
      "Confusion Matrix\n",
      "[[3630   79]\n",
      " [ 103  329]]\n",
      "ROC AUC Score\n",
      "0.870137266209\n"
     ]
    },
    {
     "data": {
      "image/png": "[encoded data removed]",
      "text/plain": [
       "<matplotlib.figure.Figure at 0xa2992710>"
      ]
     },
     "metadata": {},
     "output_type": "display_data"
    },
    {
     "name": "stdout",
     "output_type": "stream",
     "text": [
      "Bagging Decision Tree Model SMOTETomek:\n",
      "Classification Report\n",
      "             precision    recall  f1-score   support\n",
      "\n",
      "          0       0.97      0.98      0.98      3709\n",
      "          1       0.82      0.75      0.79       432\n",
      "\n",
      "avg / total       0.96      0.96      0.96      4141\n",
      "\n",
      "Confusion Matrix\n",
      "[[3637   72]\n",
      " [ 106  326]]\n",
      "ROC AUC Score\n",
      "0.867608694567\n"
     ]
    },
    {
     "data": {
      "image/png": "[encoded data removed]",
      "text/plain": [
       "<matplotlib.figure.Figure at 0xb5a9c88>"
      ]
     },
     "metadata": {},
     "output_type": "display_data"
    }
   ],
   "source": [
    "Bagging = ensemble.BaggingClassifier()\n",
    "Bagging.fit(x_train, y_train)\n",
    "print \"Bagging Decision Tree Model:\"\n",
    "model_evaluation(y_test, Bagging.predict(x_test))\n",
    "\n",
    "Bagging.fit(x_train_S, y_train_S)\n",
    "print \"Bagging Decision Tree Model SMOTE:\"\n",
    "model_evaluation(y_test, Bagging.predict(x_test))\n",
    "\n",
    "Bagging.fit(x_train_ST, y_train_ST)\n",
    "print \"Bagging Decision Tree Model SMOTETomek:\"\n",
    "model_evaluation(y_test, Bagging.predict(x_test))\n",
    "\n",
    "# Bagging.fit(x_train_EE, y_train_EE)\n",
    "# print \"Bagging Decision Tree Model EE:\"\n",
    "# model_evaluation(y_test, Bagging.predict(x_test))"
   ]
  },
  {
   "cell_type": "markdown",
   "metadata": {},
   "source": [
    "Support Vector Machine Model"
   ]
  },
  {
   "cell_type": "code",
   "execution_count": null,
   "metadata": {
    "collapsed": false
   },
   "outputs": [],
   "source": [
    "SVC = svm.SVC()\n",
    "SVC.fit(x_train, y_train)\n",
    "print \"SVM Model:\"\n",
    "model_evaluation(y_test,SVC.predict(x_test))\n",
    "\n",
    "SVC.fit(x_train_S, y_train_S)\n",
    "print \"SVM Model SMOTE:\"\n",
    "model_evaluation(y_test,SVC.predict(x_test))\n",
    "\n",
    "SVC.fit(x_train_ST, y_train_ST)\n",
    "print \"SVM Model SMOTETomek:\"\n",
    "model_evaluation(y_test,SVC.predict(x_test))\n",
    "\n",
    "# SVC.fit(x_train_EE, y_train_EE)\n",
    "# print \"SVM Model EE:\"\n",
    "# model_evaluation(y_test,SVC.predict(x_test))"
   ]
  },
  {
   "cell_type": "markdown",
   "metadata": {},
   "source": [
    "Recognizing that the tree based models produced the best results with regards to our evaluation metrics, we will examine which variables were important."
   ]
  },
  {
   "cell_type": "code",
   "execution_count": 16,
   "metadata": {
    "collapsed": false
   },
   "outputs": [
    {
     "name": "stdout",
     "output_type": "stream",
     "text": [
      "Imbalanced Dataset:\n",
      "                                     Feature  Importance\n",
      "16                    Prior 6 mos Annualized    0.200242\n",
      "18                                IS_REPRICE    0.054889\n",
      "116                       Segment_Segment247   0.0522181\n",
      "19                             CHANGE_VOLUME   0.0466577\n",
      "6                                 Expert MPU   0.0300008\n",
      "8                               Original RPM    0.029076\n",
      "26                             BAverageMiles   0.0238408\n",
      "3                               Dray Reduced   0.0198309\n",
      "11                              % With Truck   0.0197147\n",
      "25                           BAverageHubCost   0.0193278\n",
      "17                                fuelnormed   0.0179962\n",
      "7                                  Floor MPU   0.0147568\n",
      "23                         BStDevofCompRates   0.0145985\n",
      "1                             AverageIMLRate   0.0124344\n",
      "132                        Segment_Segment28  0.00970887\n",
      "448                        Segment_Segment79  0.00965683\n",
      "10                               % With Comp  0.00882923\n",
      "7235                               Public_No  0.00850844\n",
      "343                        Segment_Segment62  0.00614941\n",
      "173                       Segment_Segment347  0.00565099\n",
      "469                  Network_PARTIAL NETWORK  0.00558473\n",
      "105                       Segment_Segment234  0.00537676\n",
      "0                             AverageOTRRate  0.00489832\n",
      "438                       Segment_Segment764  0.00478214\n",
      "61                        Segment_Segment156  0.00472613\n",
      "2                                 Target MPU  0.00469928\n",
      "377                       Segment_Segment668   0.0045107\n",
      "227                       Segment_Segment446  0.00393737\n",
      "22                          BAverageCompRate  0.00393471\n",
      "24                   BAverageHubRevenue_Comp  0.00385389\n",
      "60                        Segment_Segment155  0.00354732\n",
      "418                       Segment_Segment727  0.00326738\n",
      "5                               Expert Win %  0.00319679\n",
      "216                       Segment_Segment430  0.00296737\n",
      "3159             Lane_IDAHO FALLSIDMEMPHISTN  0.00260706\n",
      "5780                   Lane_SEVERNNCJOLIETIL  0.00256082\n",
      "2158      Lane_FARIBAULTMNROYAL PALM BEACHFL  0.00255861\n",
      "3225                    Lane_JACKSONMOKENTWA   0.0025564\n",
      "2717         Lane_HARRISONVILLEMOFARR WESTUT  0.00255419\n",
      "2635          Lane_GREEN RIVERWYGREENSBORONC  0.00255199\n",
      "3243                   Lane_JACKSONTNMIAMIFL  0.00254979\n",
      "7054          Lane_WINCHESTERVAMIAMI LAKESFL  0.00254759\n",
      "3762                     Lane_LOLITATXRENONV  0.00254539\n",
      "232                       Segment_Segment454  0.00254498\n",
      "6005             Lane_SPRINGFIELDMOGOODINGID   0.0025432\n",
      "1371  Lane_CITY OF INDUSTRYCAPOMPANO BEACHFL  0.00254101\n",
      "5173             Lane_RANDOM LAKEWIEL PASOTX  0.00253882\n",
      "4635           Lane_OLIVE BRANCHMSROCKFORDIL  0.00253664\n",
      "7077        Lane_WINFIELDKSPORT WASHINGTONNY  0.00253446\n",
      "68                        Segment_Segment165  0.00253413\n",
      "5607       Lane_SAN DIEGOCAWEST PALM BEACHFL  0.00253228\n",
      "3233              Lane_JACKSONTNBOCA RATONFL   0.0025301\n",
      "5942          Lane_SPANISH FORKUTMIRA LOMACA  0.00252793\n",
      "5937          Lane_SPANISH FORKUTCHARLOTTENC  0.00252602\n",
      "2713             Lane_HARRISONVILLEMOBOISEID  0.00252576\n",
      "2718            Lane_HARRISONVILLEMOLAYTONUT  0.00252359\n",
      "6233                  Lane_TARBORONCJOLIETIL  0.00252143\n",
      "3648             Lane_LEWISBERRYPAPORTLANDOR   0.0025194\n",
      "4143                Lane_MIDDLETOWNDEEAGANMN  0.00251927\n",
      "1945                Lane_EL PASOTXPITTSTONPA  0.00251711\n",
      "516            Lane_ACAMPOCAWEST GREENWICHRI  0.00251692\n",
      "3485                Lane_LA VERGNETNLAREDOTX  0.00251495\n",
      "1325               Lane_CHESWICKPAPORTLANDOR  0.00251281\n",
      "4338             Lane_MUSCLE SHOALSALNEPHIUT   0.0025128\n",
      "649                Lane_ASHLANDVACORSICANATX  0.00251065\n",
      "2318               Lane_FORT WORTHTXMIDWAYGA  0.00250636\n",
      "6221                   Lane_TAMPAFLSHAFTERCA  0.00250624\n",
      "146                       Segment_Segment301  0.00250422\n",
      "3227                  Lane_JACKSONMOSUMNERWA  0.00250208\n",
      "3321      Lane_KANSAS CITYKSSALT LAKE CITYUT  0.00249994\n",
      "3881           Lane_MADERACAWEST GREENWICHRI  0.00249988\n",
      "2625           Lane_GRANTSVILLEUTCHARLOTTENC  0.00249971\n",
      "6615        Lane_VAN NUYSCAWEST PALM BEACHFL  0.00249781\n",
      "\n",
      "                                       Feature  Importance\n",
      "16                      Prior 6 mos Annualized   0.0412412\n",
      "3                                 Dray Reduced   0.0372425\n",
      "6                                   Expert MPU   0.0364215\n",
      "10                                 % With Comp   0.0338339\n",
      "8                                 Original RPM    0.032752\n",
      "18                                  IS_REPRICE   0.0323729\n",
      "7                                    Floor MPU   0.0323334\n",
      "17                                  fuelnormed   0.0313729\n",
      "11                                % With Truck   0.0301272\n",
      "2                                   Target MPU   0.0300157\n",
      "26                               BAverageMiles   0.0286581\n",
      "22                            BAverageCompRate   0.0278837\n",
      "19                               CHANGE_VOLUME   0.0270061\n",
      "23                           BStDevofCompRates   0.0255706\n",
      "25                             BAverageHubCost   0.0242039\n",
      "24                     BAverageHubRevenue_Comp   0.0203293\n",
      "0                               AverageOTRRate   0.0198821\n",
      "20                              CorridorVolume   0.0185873\n",
      "21                              BNumberofComps   0.0167057\n",
      "1                               AverageIMLRate   0.0125579\n",
      "5                                 Expert Win %   0.0119593\n",
      "12                                       Scope   0.0113476\n",
      "470                            Past_Awarded_No  0.00904329\n",
      "116                         Segment_Segment247  0.00890142\n",
      "7236                                Public_Yes  0.00675939\n",
      "4                                  Floor Win %  0.00664197\n",
      "468                       Network_FULL NETWORK  0.00574804\n",
      "471                           Past_Awarded_Yes  0.00504055\n",
      "451                          Segment_Segment81  0.00500701\n",
      "9                                 Target Win %  0.00475069\n",
      "469                    Network_PARTIAL NETWORK  0.00473995\n",
      "448                          Segment_Segment79  0.00434529\n",
      "365                         Segment_Segment654  0.00384449\n",
      "227                         Segment_Segment446  0.00366477\n",
      "7235                                 Public_No  0.00363971\n",
      "343                          Segment_Segment62  0.00313843\n",
      "216                         Segment_Segment430  0.00294622\n",
      "339                         Segment_Segment613   0.0028175\n",
      "379                         Segment_Segment670  0.00246205\n",
      "132                          Segment_Segment28  0.00241308\n",
      "437                          Segment_Segment76  0.00215898\n",
      "359                         Segment_Segment646  0.00207619\n",
      "649                  Lane_ASHLANDVACORSICANATX  0.00205544\n",
      "409                         Segment_Segment716  0.00199711\n",
      "440                         Segment_Segment766  0.00199201\n",
      "357                         Segment_Segment644  0.00198886\n",
      "234                         Segment_Segment456  0.00183485\n",
      "105                         Segment_Segment234  0.00175533\n",
      "3877                      Lane_MADERACASALEMVA  0.00173569\n",
      "374                         Segment_Segment665  0.00173025\n",
      "5607         Lane_SAN DIEGOCAWEST PALM BEACHFL  0.00162932\n",
      "6005               Lane_SPRINGFIELDMOGOODINGID  0.00161908\n",
      "354                         Segment_Segment639  0.00157164\n",
      "5664  Lane_SANTA FE SPRINGSCAWEST PALM BEACHFL  0.00157072\n",
      "4160             Lane_MIDDLETOWNPASAINT PAULMN  0.00151422\n",
      "217                         Segment_Segment431  0.00150568\n",
      "6233                    Lane_TARBORONCJOLIETIL  0.00148443\n",
      "7057                Lane_WINCHESTERVAMIRAMARFL  0.00144007\n",
      "61                          Segment_Segment156  0.00142804\n",
      "316                         Segment_Segment578  0.00140554\n",
      "5157    Lane_RANCHO CUCAMONGACAWEST HARTFORDCT  0.00140129\n",
      "305                         Segment_Segment562  0.00140099\n",
      "2150                    Lane_FARGONDVALDOSTAGA  0.00139115\n",
      "6689                  Lane_WARRENARGARYSBURGNC  0.00137465\n",
      "3604                  Lane_LEBECCASAINT PAULMN  0.00135672\n",
      "2318                 Lane_FORT WORTHTXMIDWAYGA  0.00134865\n",
      "228                         Segment_Segment447  0.00129605\n",
      "5780                     Lane_SEVERNNCJOLIETIL  0.00128312\n",
      "183                          Segment_Segment36  0.00128125\n",
      "1502                    Lane_CONROETXREDDINGCA  0.00127521\n",
      "2129              Lane_FAIRLESS HILLSPATRACYCA  0.00125277\n",
      "1124               Lane_CANANDAIGUANYHAYWARDCA  0.00124654\n",
      "6166               Lane_SUNNYVALETXKISSIMMEEFL  0.00123678\n",
      "\n",
      "Balanced with SMOTE:\n",
      "                                 Feature  Importance\n",
      "16                Prior 6 mos Annualized    0.310649\n",
      "19                         CHANGE_VOLUME   0.0974475\n",
      "8                           Original RPM   0.0840882\n",
      "468                 Network_FULL NETWORK   0.0327777\n",
      "18                            IS_REPRICE   0.0265513\n",
      "116                   Segment_Segment247   0.0254073\n",
      "2                             Target MPU   0.0186659\n",
      "22                      BAverageCompRate   0.0183679\n",
      "26                         BAverageMiles   0.0183605\n",
      "7                              Floor MPU   0.0156228\n",
      "10                           % With Comp   0.0143155\n",
      "343                    Segment_Segment62   0.0118572\n",
      "448                    Segment_Segment79   0.0117979\n",
      "25                       BAverageHubCost   0.0113227\n",
      "6                             Expert MPU    0.010365\n",
      "227                   Segment_Segment446  0.00974893\n",
      "23                     BStDevofCompRates  0.00947348\n",
      "451                    Segment_Segment81  0.00797967\n",
      "17                            fuelnormed  0.00784298\n",
      "1                         AverageIMLRate  0.00722647\n",
      "5                           Expert Win %  0.00721851\n",
      "470                      Past_Awarded_No  0.00702283\n",
      "24               BAverageHubRevenue_Comp  0.00611557\n",
      "3881       Lane_MADERACAWEST GREENWICHRI  0.00557816\n",
      "4143            Lane_MIDDLETOWNDEEAGANMN  0.00553916\n",
      "11                          % With Truck  0.00506676\n",
      "374                   Segment_Segment665  0.00488328\n",
      "438                   Segment_Segment764  0.00488236\n",
      "4632      Lane_OLIVE BRANCHMSCHARLOTTENC  0.00472667\n",
      "4338         Lane_MUSCLE SHOALSALNEPHIUT  0.00458147\n",
      "5216       Lane_RED OAKIACENTER VALLEYPA  0.00442909\n",
      "2318           Lane_FORT WORTHTXMIDWAYGA  0.00439099\n",
      "216                   Segment_Segment430  0.00425216\n",
      "0                         AverageOTRRate  0.00410694\n",
      "7054      Lane_WINCHESTERVAMIAMI LAKESFL  0.00369152\n",
      "4336        Lane_MUSCLE SHOALSALLAREDOTX  0.00366522\n",
      "1402            Lane_CLAYTONNJWOODBURYMN   0.0034243\n",
      "5364          Lane_ROGERSMNSTATESVILLENC  0.00339718\n",
      "6221               Lane_TAMPAFLSHAFTERCA  0.00330544\n",
      "3                           Dray Reduced   0.0032925\n",
      "4155       Lane_MIDDLETOWNPANORTHFIELDMN  0.00322081\n",
      "2181          Lane_FIRTHIDMOUNT JULIETTN   0.0031687\n",
      "9                           Target Win %  0.00297451\n",
      "1658                Lane_DAYTONNJTRACYCA  0.00291811\n",
      "649            Lane_ASHLANDVACORSICANATX  0.00274103\n",
      "400                   Segment_Segment699  0.00264194\n",
      "1945            Lane_EL PASOTXPITTSTONPA  0.00243241\n",
      "6494             Lane_TYLERTXCHARLOTTENC  0.00227314\n",
      "4939              Lane_PLANOTXSANDSTONVA  0.00226328\n",
      "2158  Lane_FARIBAULTMNROYAL PALM BEACHFL  0.00203679\n",
      "3342              Lane_KATYTXJAMESBURGNJ   0.0020289\n",
      "471                     Past_Awarded_Yes   0.0019208\n",
      "1285         Lane_CHANHASSENMNVALDOSTAGA  0.00172951\n",
      "20                        CorridorVolume  0.00170115\n",
      "3239           Lane_JACKSONTNGARYSBURGNC  0.00167133\n",
      "232                   Segment_Segment454  0.00163381\n",
      "5675       Lane_SANTA TERESANMROCKFORDIL  0.00158955\n",
      "4355            Lane_NEOSHOMOWHITEHALLPA  0.00153729\n",
      "7077    Lane_WINFIELDKSPORT WASHINGTONNY   0.0015328\n",
      "1437             Lane_CLOVISNMPITTSTONPA  0.00149784\n",
      "5927             Lane_SPANAWAYWADAYTONTX  0.00149604\n",
      "5920         Lane_SOUTHAVENMSGARYSBURGNC  0.00147288\n",
      "5942      Lane_SPANISH FORKUTMIRA LOMACA  0.00139459\n",
      "53                    Segment_Segment146  0.00131456\n",
      "5780               Lane_SEVERNNCJOLIETIL  0.00130352\n",
      "2635      Lane_GREEN RIVERWYGREENSBORONC  0.00130032\n",
      "6841   Lane_WEST NYACKNYSALT LAKE CITYUT  0.00129832\n",
      "6292       Lane_TOLLESONAZCHAMBERSBURGPA  0.00129714\n",
      "3159         Lane_IDAHO FALLSIDMEMPHISTN  0.00129396\n",
      "4938              Lane_PLANOTXRICHMONDVA   0.0012908\n",
      "4635       Lane_OLIVE BRANCHMSROCKFORDIL  0.00128765\n",
      "3227              Lane_JACKSONMOSUMNERWA  0.00128451\n",
      "6092               Lane_SUFFOLKVALACEYWA    0.001275\n",
      "\n",
      "                                  Feature  Importance\n",
      "18                             IS_REPRICE   0.0525232\n",
      "24                BAverageHubRevenue_Comp   0.0398584\n",
      "19                          CHANGE_VOLUME   0.0379087\n",
      "26                          BAverageMiles   0.0354909\n",
      "16                 Prior 6 mos Annualized    0.034996\n",
      "8                            Original RPM   0.0314755\n",
      "21                         BNumberofComps   0.0309099\n",
      "3                            Dray Reduced   0.0265996\n",
      "11                           % With Truck    0.026233\n",
      "471                      Past_Awarded_Yes   0.0258549\n",
      "470                       Past_Awarded_No   0.0256545\n",
      "17                             fuelnormed   0.0250825\n",
      "22                       BAverageCompRate   0.0230754\n",
      "6                              Expert MPU   0.0224365\n",
      "2                              Target MPU   0.0218846\n",
      "12                                  Scope   0.0217085\n",
      "0                          AverageOTRRate   0.0216414\n",
      "10                            % With Comp   0.0214166\n",
      "25                        BAverageHubCost   0.0208822\n",
      "1                          AverageIMLRate   0.0203877\n",
      "23                      BStDevofCompRates   0.0201875\n",
      "7                               Floor MPU   0.0200987\n",
      "20                         CorridorVolume   0.0194158\n",
      "469               Network_PARTIAL NETWORK   0.0164628\n",
      "5                            Expert Win %   0.0142803\n",
      "468                  Network_FULL NETWORK   0.0123398\n",
      "7235                            Public_No    0.012318\n",
      "7236                           Public_Yes   0.0114366\n",
      "9                            Target Win %   0.0107735\n",
      "116                    Segment_Segment247  0.00466325\n",
      "4                             Floor Win %  0.00427231\n",
      "451                     Segment_Segment81  0.00320445\n",
      "105                    Segment_Segment234  0.00308318\n",
      "240                    Segment_Segment464  0.00302699\n",
      "448                     Segment_Segment79  0.00299817\n",
      "379                    Segment_Segment670  0.00296665\n",
      "449                     Segment_Segment80  0.00279699\n",
      "217                    Segment_Segment431  0.00273903\n",
      "1619             Lane_DALLASTXKISSIMMEEFL  0.00266391\n",
      "359                    Segment_Segment646  0.00246723\n",
      "161                    Segment_Segment330  0.00229973\n",
      "339                    Segment_Segment613  0.00226783\n",
      "62                     Segment_Segment157  0.00222287\n",
      "228                    Segment_Segment447  0.00209069\n",
      "106                    Segment_Segment236  0.00205138\n",
      "374                    Segment_Segment665  0.00203796\n",
      "216                    Segment_Segment430  0.00203081\n",
      "321                    Segment_Segment588  0.00201036\n",
      "234                    Segment_Segment456  0.00200249\n",
      "343                     Segment_Segment62  0.00190659\n",
      "134                    Segment_Segment283  0.00190072\n",
      "365                    Segment_Segment654  0.00189621\n",
      "245                    Segment_Segment470  0.00173873\n",
      "2633          Lane_GREEN RIVERWYCLINTONCT  0.00165095\n",
      "110                     Segment_Segment24  0.00164272\n",
      "436                    Segment_Segment755  0.00155419\n",
      "6233               Lane_TARBORONCJOLIETIL  0.00154079\n",
      "2713          Lane_HARRISONVILLEMOBOISEID  0.00153707\n",
      "440                    Segment_Segment766  0.00152173\n",
      "4780                Lane_PERHAMMNLUGOFFSC  0.00151622\n",
      "104                    Segment_Segment231  0.00149293\n",
      "294                    Segment_Segment549  0.00140772\n",
      "5352            Lane_ROCHESTERNYVISALIACA  0.00135711\n",
      "45                     Segment_Segment139  0.00135605\n",
      "1999  Lane_ELMWOOD PARKNJSALT LAKE CITYUT  0.00133197\n",
      "385                    Segment_Segment677  0.00133195\n",
      "232                    Segment_Segment454  0.00132231\n",
      "1674              Lane_DEER PARKTXBIOLACA  0.00127806\n",
      "203                    Segment_Segment417  0.00122033\n",
      "3521         Lane_LANCASTERPANORTHFIELDMN  0.00118605\n",
      "5000             Lane_PORTLANDMEOAKLANDCA  0.00114181\n",
      "292                    Segment_Segment547  0.00114022\n",
      "132                     Segment_Segment28  0.00113017\n",
      "\n",
      "Balanced with SMOTETomek:\n",
      "                                  Feature  Importance\n",
      "16                 Prior 6 mos Annualized    0.311184\n",
      "8                            Original RPM   0.0856625\n",
      "19                          CHANGE_VOLUME   0.0590038\n",
      "470                       Past_Awarded_No   0.0337012\n",
      "116                    Segment_Segment247   0.0292107\n",
      "18                             IS_REPRICE    0.023894\n",
      "26                          BAverageMiles   0.0229738\n",
      "451                     Segment_Segment81   0.0152726\n",
      "440                    Segment_Segment766   0.0147203\n",
      "10                            % With Comp   0.0125124\n",
      "448                     Segment_Segment79   0.0121403\n",
      "5                            Expert Win %   0.0121386\n",
      "343                     Segment_Segment62   0.0113152\n",
      "11                           % With Truck   0.0110688\n",
      "22                       BAverageCompRate   0.0107031\n",
      "23                      BStDevofCompRates  0.00997981\n",
      "227                    Segment_Segment446  0.00929634\n",
      "17                             fuelnormed  0.00764499\n",
      "4632       Lane_OLIVE BRANCHMSCHARLOTTENC  0.00688421\n",
      "374                    Segment_Segment665  0.00681299\n",
      "3243                Lane_JACKSONTNMIAMIFL  0.00655605\n",
      "2717      Lane_HARRISONVILLEMOFARR WESTUT  0.00642422\n",
      "3                            Dray Reduced  0.00636178\n",
      "68                     Segment_Segment165  0.00612349\n",
      "471                      Past_Awarded_Yes  0.00611268\n",
      "2318            Lane_FORT WORTHTXMIDWAYGA  0.00606792\n",
      "173                    Segment_Segment347  0.00577533\n",
      "468                  Network_FULL NETWORK  0.00576694\n",
      "2                              Target MPU  0.00562761\n",
      "3881        Lane_MADERACAWEST GREENWICHRI  0.00540437\n",
      "6                              Expert MPU  0.00536663\n",
      "438                    Segment_Segment764  0.00510141\n",
      "25                        BAverageHubCost  0.00483464\n",
      "4143             Lane_MIDDLETOWNDEEAGANMN  0.00471221\n",
      "7                               Floor MPU  0.00469525\n",
      "216                    Segment_Segment430  0.00462579\n",
      "5942       Lane_SPANISH FORKUTMIRA LOMACA  0.00412098\n",
      "110                     Segment_Segment24  0.00380996\n",
      "6233               Lane_TARBORONCJOLIETIL  0.00371984\n",
      "441                    Segment_Segment767  0.00351845\n",
      "5607    Lane_SAN DIEGOCAWEST PALM BEACHFL   0.0035107\n",
      "5780                Lane_SEVERNNCJOLIETIL  0.00342831\n",
      "60                     Segment_Segment155  0.00330165\n",
      "3227               Lane_JACKSONMOSUMNERWA  0.00329723\n",
      "0                          AverageOTRRate  0.00316819\n",
      "1494         Lane_CONCORDNCNORTH BERGENNJ  0.00287197\n",
      "2158   Lane_FARIBAULTMNROYAL PALM BEACHFL  0.00285701\n",
      "2718         Lane_HARRISONVILLEMOLAYTONUT  0.00284215\n",
      "5173          Lane_RANDOM LAKEWIEL PASOTX  0.00265866\n",
      "4155        Lane_MIDDLETOWNPANORTHFIELDMN  0.00264589\n",
      "4637  Lane_OLIVE BRANCHMSSALT LAKE CITYUT  0.00245421\n",
      "4939               Lane_PLANOTXSANDSTONVA  0.00245165\n",
      "3162         Lane_IDAHO FALLSIDRICHMONDVA  0.00244086\n",
      "12                                  Scope  0.00230506\n",
      "149                    Segment_Segment306   0.0022698\n",
      "5979         Lane_SPRING HILLKSCHICOPEEMA  0.00223451\n",
      "4336         Lane_MUSCLE SHOALSALLAREDOTX   0.0022256\n",
      "21                         BNumberofComps  0.00211933\n",
      "3730                 Lane_LODICAHOPKINSMN  0.00207759\n",
      "3225                 Lane_JACKSONMOKENTWA  0.00200803\n",
      "7182             Lane_YAPHANKNYBESSEMERAL  0.00200087\n",
      "3233           Lane_JACKSONTNBOCA RATONFL  0.00199375\n",
      "6840       Lane_WEST NYACKNYMOUNDS VIEWMN  0.00183574\n",
      "1502               Lane_CONROETXREDDINGCA  0.00179653\n",
      "4355             Lane_NEOSHOMOWHITEHALLPA  0.00179087\n",
      "4721             Lane_PALO ALTOCAEUDORAKS  0.00178583\n",
      "6212              Lane_TACOMAWARICHMONDVA  0.00178522\n",
      "629           Lane_ARLINGTONTXCHARLOTTENC  0.00177961\n",
      "4338          Lane_MUSCLE SHOALSALNEPHIUT  0.00177402\n",
      "6292        Lane_TOLLESONAZCHAMBERSBURGPA  0.00176846\n",
      "3604             Lane_LEBECCASAINT PAULMN  0.00176293\n",
      "516         Lane_ACAMPOCAWEST GREENWICHRI   0.0017535\n",
      "1402             Lane_CLAYTONNJWOODBURYMN  0.00173846\n",
      "\n",
      "                                 Feature  Importance\n",
      "16                Prior 6 mos Annualized   0.0853883\n",
      "26                         BAverageMiles   0.0400785\n",
      "8                           Original RPM   0.0336488\n",
      "19                         CHANGE_VOLUME   0.0312695\n",
      "471                     Past_Awarded_Yes   0.0306652\n",
      "17                            fuelnormed   0.0281698\n",
      "24               BAverageHubRevenue_Comp   0.0275095\n",
      "10                           % With Comp   0.0272081\n",
      "3                           Dray Reduced   0.0267867\n",
      "470                      Past_Awarded_No   0.0263023\n",
      "6                             Expert MPU    0.024732\n",
      "11                          % With Truck   0.0244054\n",
      "18                            IS_REPRICE     0.02392\n",
      "7                              Floor MPU   0.0227209\n",
      "20                        CorridorVolume   0.0224475\n",
      "23                     BStDevofCompRates   0.0220805\n",
      "5                           Expert Win %   0.0207134\n",
      "1                         AverageIMLRate   0.0206535\n",
      "21                        BNumberofComps    0.020446\n",
      "468                 Network_FULL NETWORK   0.0200706\n",
      "2                             Target MPU   0.0195424\n",
      "25                       BAverageHubCost   0.0190752\n",
      "22                      BAverageCompRate   0.0179149\n",
      "0                         AverageOTRRate   0.0174201\n",
      "469              Network_PARTIAL NETWORK   0.0140696\n",
      "7235                           Public_No   0.0104546\n",
      "9                           Target Win %  0.00905195\n",
      "7236                          Public_Yes  0.00898588\n",
      "116                   Segment_Segment247   0.0086602\n",
      "12                                 Scope  0.00843034\n",
      "448                    Segment_Segment79  0.00445777\n",
      "308                   Segment_Segment565  0.00379635\n",
      "227                   Segment_Segment446  0.00347845\n",
      "451                    Segment_Segment81  0.00319454\n",
      "217                   Segment_Segment431  0.00319275\n",
      "105                   Segment_Segment234  0.00303069\n",
      "4                            Floor Win %  0.00278855\n",
      "375                   Segment_Segment666  0.00275034\n",
      "343                    Segment_Segment62  0.00261788\n",
      "354                   Segment_Segment639  0.00257955\n",
      "3321  Lane_KANSAS CITYKSSALT LAKE CITYUT  0.00245678\n",
      "339                   Segment_Segment613  0.00216094\n",
      "374                   Segment_Segment665  0.00215843\n",
      "321                   Segment_Segment588  0.00215195\n",
      "132                    Segment_Segment28  0.00207813\n",
      "365                   Segment_Segment654  0.00203121\n",
      "114                   Segment_Segment244  0.00196024\n",
      "294                   Segment_Segment549  0.00188844\n",
      "45                    Segment_Segment139  0.00185336\n",
      "1619            Lane_DALLASTXKISSIMMEEFL  0.00178667\n",
      "106                   Segment_Segment236  0.00173579\n",
      "113                   Segment_Segment243  0.00168131\n",
      "440                   Segment_Segment766  0.00163919\n",
      "377                   Segment_Segment668  0.00160554\n",
      "409                   Segment_Segment716  0.00153403\n",
      "416                   Segment_Segment725  0.00152284\n",
      "3233          Lane_JACKSONTNBOCA RATONFL  0.00151851\n",
      "99                    Segment_Segment224  0.00150997\n",
      "161                   Segment_Segment330  0.00147689\n",
      "6596              Lane_VAN NUYSCADORALFL  0.00142991\n",
      "438                   Segment_Segment764  0.00142641\n",
      "436                   Segment_Segment755  0.00141745\n",
      "368                   Segment_Segment657  0.00141402\n",
      "245                   Segment_Segment470  0.00140548\n",
      "264                   Segment_Segment500  0.00136984\n",
      "216                   Segment_Segment430  0.00136565\n",
      "71                     Segment_Segment17  0.00133215\n",
      "379                   Segment_Segment670   0.0013163\n",
      "6005         Lane_SPRINGFIELDMOGOODINGID  0.00131362\n",
      "6615    Lane_VAN NUYSCAWEST PALM BEACHFL  0.00128806\n",
      "240                   Segment_Segment464   0.0012655\n",
      "336                   Segment_Segment608  0.00118225\n",
      "3243               Lane_JACKSONTNMIAMIFL  0.00116583\n",
      "\n"
     ]
    }
   ],
   "source": [
    "print \"Imbalanced Dataset:\"\n",
    "Features(Decision_Tree)\n",
    "Features(Random_Forest)\n",
    "\n",
    "print \"Balanced with SMOTE:\"\n",
    "Features(Decision_Tree2)\n",
    "Features(Random_Forest2)\n",
    "\n",
    "print \"Balanced with SMOTETomek:\"\n",
    "Features(Decision_Tree3)\n",
    "Features(Random_Forest3)\n",
    "\n",
    "# print \"Balanced with EE:\"\n",
    "# Features(Decision_Tree4)\n",
    "# Features(Random_Forest4)"
   ]
  }
 ],
 "metadata": {
  "kernelspec": {
   "display_name": "Python 2",
   "language": "python",
   "name": "python2"
  },
  "language_info": {
   "codemirror_mode": {
    "name": "ipython",
    "version": 2
   },
   "file_extension": ".py",
   "mimetype": "text/x-python",
   "name": "python",
   "nbconvert_exporter": "python",
   "pygments_lexer": "ipython2",
   "version": "2.7.11"
  }
 },
 "nbformat": 4,
 "nbformat_minor": 0
}
